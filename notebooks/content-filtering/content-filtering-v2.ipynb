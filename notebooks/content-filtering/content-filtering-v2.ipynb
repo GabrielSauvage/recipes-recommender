{
 "nbformat": 4,
 "nbformat_minor": 0,
 "metadata": {
  "colab": {
   "provenance": []
  },
  "kernelspec": {
   "name": "python3",
   "display_name": "Python 3"
  },
  "language_info": {
   "name": "python"
  }
 },
 "cells": [
  {
   "cell_type": "markdown",
   "source": [
    "# Gestion des biblothèques"
   ],
   "metadata": {
    "id": "hz7Nq_jq9nxX"
   }
  },
  {
   "cell_type": "code",
   "execution_count": 1,
   "metadata": {
    "id": "P0AjOGJlQEe_"
   },
   "outputs": [],
   "source": [
    "import pandas as pd\n",
    "import string\n",
    "\n",
    "from sklearn.feature_extraction.text import TfidfVectorizer\n",
    "from sklearn.metrics.pairwise import cosine_similarity"
   ]
  },
  {
   "cell_type": "markdown",
   "source": [
    "# Pré traitement des données"
   ],
   "metadata": {
    "id": "QTU6Jp6H9pK9"
   }
  },
  {
   "cell_type": "markdown",
   "source": [
    "#### Importation du dataset"
   ],
   "metadata": {
    "id": "ve0YO8eY9szC"
   }
  },
  {
   "cell_type": "code",
   "source": [
    "recipes_df = pd.read_csv('../../data/raw/RAW_recipes.csv', on_bad_lines='skip', engine=\"python\")"
   ],
   "metadata": {
    "id": "LF1fsppFQKS4"
   },
   "execution_count": 2,
   "outputs": []
  },
  {
   "cell_type": "markdown",
   "source": [
    "### Suppression des colonnes inutiles"
   ],
   "metadata": {
    "id": "KU32F-5J9uYJ"
   }
  },
  {
   "cell_type": "code",
   "source": [
    "recipes_df = recipes_df.drop(['submitted', 'contributor_id', 'minutes', 'nutrition', 'n_steps', 'n_ingredients', 'steps'], axis=1)\n",
    "recipes_df.info()"
   ],
   "metadata": {
    "colab": {
     "base_uri": "https://localhost:8080/"
    },
    "id": "Af5mg0YYQUAr",
    "outputId": "bec2bd0c-2361-4b6b-aec8-295b7fb3e92e"
   },
   "execution_count": 3,
   "outputs": [
    {
     "output_type": "stream",
     "name": "stdout",
     "text": [
      "<class 'pandas.core.frame.DataFrame'>\n",
      "RangeIndex: 231637 entries, 0 to 231636\n",
      "Data columns (total 5 columns):\n",
      " #   Column       Non-Null Count   Dtype \n",
      "---  ------       --------------   ----- \n",
      " 0   name         231636 non-null  object\n",
      " 1   id           231637 non-null  int64 \n",
      " 2   tags         231637 non-null  object\n",
      " 3   description  226658 non-null  object\n",
      " 4   ingredients  231637 non-null  object\n",
      "dtypes: int64(1), object(4)\n",
      "memory usage: 8.8+ MB\n"
     ]
    }
   ]
  },
  {
   "cell_type": "markdown",
   "source": [
    "#### Suppression des lignes incorrectes"
   ],
   "metadata": {
    "id": "od-pkrVa-FQZ"
   }
  },
  {
   "cell_type": "code",
   "source": [
    "recipes_df = recipes_df.drop_duplicates()\n",
    "recipes_df = recipes_df.dropna()"
   ],
   "metadata": {
    "id": "IabAMioEQioe"
   },
   "execution_count": 4,
   "outputs": []
  },
  {
   "cell_type": "markdown",
   "source": [
    "#### Sélection des 20000 premières recettes"
   ],
   "metadata": {
    "id": "vb2tOXoS-HnE"
   }
  },
  {
   "cell_type": "code",
   "source": [
    "recipes_df = recipes_df.head(20000)"
   ],
   "metadata": {
    "id": "8ZjSiY8I-JDg"
   },
   "execution_count": 5,
   "outputs": []
  },
  {
   "cell_type": "markdown",
   "source": [
    "#### Formattage du titre"
   ],
   "metadata": {
    "id": "aJ2bK3Ax-O88"
   }
  },
  {
   "cell_type": "markdown",
   "source": [
    "Les titres sont rentrés manuellement par les utilisateurs. Ils contiennent parfois des espaces en trop, que nous allons chercher à supprimer"
   ],
   "metadata": {
    "id": "4LTUpjFK-PVX"
   }
  },
  {
   "cell_type": "code",
   "source": [
    "# Retourner le titre avec un seul espace entre les mots.\n",
    "def clean_recipe_titles(title):\n",
    "  words = title.split()\n",
    "  cleaned_title = ' '.join(words)\n",
    "  return cleaned_title"
   ],
   "metadata": {
    "id": "BDiKgMFq-RIe"
   },
   "execution_count": 6,
   "outputs": []
  },
  {
   "cell_type": "code",
   "source": [
    "recipes_df.name = recipes_df.name.apply(clean_recipe_titles)"
   ],
   "metadata": {
    "id": "TFbnoAnt-TK7"
   },
   "execution_count": 7,
   "outputs": []
  },
  {
   "cell_type": "markdown",
   "source": [
    "#### Nettoyage des ingrédients"
   ],
   "metadata": {
    "id": "BjMs92wh-U6u"
   }
  },
  {
   "cell_type": "code",
   "source": [
    "def text_cleaning(text):\n",
    "    text  = \"\".join([char for char in text if char not in string.punctuation])\n",
    "    return text\n",
    "\n",
    "recipes_df['ingredients'] = recipes_df['ingredients'].apply(lambda x: text_cleaning(x))"
   ],
   "metadata": {
    "id": "ln9qLEgYQm-F"
   },
   "execution_count": 8,
   "outputs": []
  },
  {
   "cell_type": "markdown",
   "source": [
    "#### Création d'une colonne (tags + ingrédients + description)"
   ],
   "metadata": {
    "id": "yUtuVtKM-YNl"
   }
  },
  {
   "cell_type": "markdown",
   "source": [
    "Au lieu de faire uniquement la recherche de similarité sur la colonne des ingrédients, nous allons ajouter le contexte avec la description de la recette et les différents tags (healthy, fast, etc.)"
   ],
   "metadata": {
    "id": "rR5ejN_v-lSx"
   }
  },
  {
   "cell_type": "code",
   "source": [
    "def assemble_categories(row):\n",
    "    return row['tags'] + \" \" + row['ingredients'] + \" \" + row['description']"
   ],
   "metadata": {
    "id": "4GOQjZotQuK6"
   },
   "execution_count": 9,
   "outputs": []
  },
  {
   "cell_type": "code",
   "source": [
    "recipes_df['combined_features'] = recipes_df.apply(assemble_categories, axis=1)"
   ],
   "metadata": {
    "id": "oe2K-GWm-kLY"
   },
   "execution_count": 10,
   "outputs": []
  },
  {
   "cell_type": "markdown",
   "source": [
    "#### Vérification du tri"
   ],
   "metadata": {
    "id": "i9lQ-HaE-1nf"
   }
  },
  {
   "cell_type": "code",
   "source": [
    "recipes_df.duplicated().sum()\n",
    "recipes_df.isnull().sum()"
   ],
   "metadata": {
    "colab": {
     "base_uri": "https://localhost:8080/",
     "height": 272
    },
    "id": "giuPXErC-_bx",
    "outputId": "11a218cb-d456-4003-8a8e-7ed7d07365c8"
   },
   "execution_count": 11,
   "outputs": [
    {
     "output_type": "execute_result",
     "data": {
      "text/plain": [
       "name                 0\n",
       "id                   0\n",
       "tags                 0\n",
       "description          0\n",
       "ingredients          0\n",
       "combined_features    0\n",
       "dtype: int64"
      ],
      "text/html": [
       "<div>\n",
       "<style scoped>\n",
       "    .dataframe tbody tr th:only-of-type {\n",
       "        vertical-align: middle;\n",
       "    }\n",
       "\n",
       "    .dataframe tbody tr th {\n",
       "        vertical-align: top;\n",
       "    }\n",
       "\n",
       "    .dataframe thead th {\n",
       "        text-align: right;\n",
       "    }\n",
       "</style>\n",
       "<table border=\"1\" class=\"dataframe\">\n",
       "  <thead>\n",
       "    <tr style=\"text-align: right;\">\n",
       "      <th></th>\n",
       "      <th>0</th>\n",
       "    </tr>\n",
       "  </thead>\n",
       "  <tbody>\n",
       "    <tr>\n",
       "      <th>name</th>\n",
       "      <td>0</td>\n",
       "    </tr>\n",
       "    <tr>\n",
       "      <th>id</th>\n",
       "      <td>0</td>\n",
       "    </tr>\n",
       "    <tr>\n",
       "      <th>tags</th>\n",
       "      <td>0</td>\n",
       "    </tr>\n",
       "    <tr>\n",
       "      <th>description</th>\n",
       "      <td>0</td>\n",
       "    </tr>\n",
       "    <tr>\n",
       "      <th>ingredients</th>\n",
       "      <td>0</td>\n",
       "    </tr>\n",
       "    <tr>\n",
       "      <th>combined_features</th>\n",
       "      <td>0</td>\n",
       "    </tr>\n",
       "  </tbody>\n",
       "</table>\n",
       "</div><br><label><b>dtype:</b> int64</label>"
      ]
     },
     "metadata": {},
     "execution_count": 11
    }
   ]
  },
  {
   "cell_type": "markdown",
   "source": [
    "#### Affichage des la dimension du dataframe"
   ],
   "metadata": {
    "id": "QbP0vzJy-zHp"
   }
  },
  {
   "cell_type": "code",
   "source": [
    "(20000, 3)"
   ],
   "metadata": {
    "colab": {
     "base_uri": "https://localhost:8080/"
    },
    "id": "WcZIuQ3I-vs9",
    "outputId": "fde2f366-b11a-4d2a-b59c-0b8cb300f809"
   },
   "execution_count": 12,
   "outputs": [
    {
     "output_type": "execute_result",
     "data": {
      "text/plain": [
       "(20000, 3)"
      ]
     },
     "metadata": {},
     "execution_count": 12
    }
   ]
  },
  {
   "cell_type": "markdown",
   "source": [
    "# Filtrage par contenu"
   ],
   "metadata": {
    "id": "2NYD9vt4_BeX"
   }
  },
  {
   "cell_type": "markdown",
   "source": [
    "### Utilisation de TF-IDF"
   ],
   "metadata": {
    "id": "NiI8pakv_EEb"
   }
  },
  {
   "cell_type": "markdown",
   "source": [
    "On accepte 20000 mots de vocabulaire au maximum et on supprime les particules anglaises"
   ],
   "metadata": {
    "id": "mNuyfUGA_Fz5"
   }
  },
  {
   "cell_type": "code",
   "source": [
    "tfidf = TfidfVectorizer(stop_words='english', max_features=20000)"
   ],
   "metadata": {
    "id": "vtyRK1SLS3Wm"
   },
   "execution_count": 13,
   "outputs": []
  },
  {
   "cell_type": "markdown",
   "source": [
    "On applique le procession à cette nouvelle colonne"
   ],
   "metadata": {
    "id": "E55qfYPi_KN_"
   }
  },
  {
   "cell_type": "code",
   "source": [
    "tfidf_matrix = tfidf.fit_transform(recipes_df['combined_features'])\n",
    "tfidf_matrix.shape"
   ],
   "metadata": {
    "colab": {
     "base_uri": "https://localhost:8080/"
    },
    "id": "vLHT9Gdl_bBq",
    "outputId": "95557d55-c51f-40bf-9abb-bc943d175e84"
   },
   "execution_count": 14,
   "outputs": [
    {
     "output_type": "execute_result",
     "data": {
      "text/plain": [
       "(20000, 20000)"
      ]
     },
     "metadata": {},
     "execution_count": 14
    }
   ]
  },
  {
   "cell_type": "markdown",
   "source": [
    "### Création du linear kernel"
   ],
   "metadata": {
    "id": "LX6yCSqv_hOW"
   }
  },
  {
   "cell_type": "markdown",
   "source": [
    "On calcule les angles entre la matrice TF-IDF en ligne et en colonne"
   ],
   "metadata": {
    "id": "aSwzINbL_kY5"
   }
  },
  {
   "cell_type": "code",
   "source": [
    "cosine_sim = cosine_similarity(tfidf_matrix, tfidf_matrix)"
   ],
   "metadata": {
    "id": "QADUd6RPS_zr"
   },
   "execution_count": 15,
   "outputs": []
  },
  {
   "cell_type": "markdown",
   "source": [
    "### Création des indices"
   ],
   "metadata": {
    "id": "XcMmL6YH_osy"
   }
  },
  {
   "cell_type": "markdown",
   "source": [
    "Les indices permettes de rechercher dans le dataframe des recettes. Les id ne correspondant plus à l'index du tableau"
   ],
   "metadata": {
    "id": "6uI51yfR_pMW"
   }
  },
  {
   "cell_type": "code",
   "source": [
    "indices = pd.Series(recipes_df.index, index=recipes_df['name']).drop_duplicates()\n",
    "indices"
   ],
   "metadata": {
    "id": "8FYxKtNuTCkz",
    "colab": {
     "base_uri": "https://localhost:8080/",
     "height": 489
    },
    "outputId": "33b2a021-4b4d-4a39-dc04-07e1929ebe16"
   },
   "execution_count": 16,
   "outputs": [
    {
     "output_type": "execute_result",
     "data": {
      "text/plain": [
       "name\n",
       "arriba baked winter squash mexican style        0\n",
       "a bit different breakfast pizza                 1\n",
       "all in the kitchen chili                        2\n",
       "alouette potatoes                               3\n",
       "amish tomato ketchup for canning                4\n",
       "                                            ...  \n",
       "beef parmesan                               20493\n",
       "beef pasanda                                20494\n",
       "beef pasta bake                             20495\n",
       "beef pasties                                20497\n",
       "beef pastrami                               20498\n",
       "Length: 20000, dtype: int64"
      ],
      "text/html": [
       "<div>\n",
       "<style scoped>\n",
       "    .dataframe tbody tr th:only-of-type {\n",
       "        vertical-align: middle;\n",
       "    }\n",
       "\n",
       "    .dataframe tbody tr th {\n",
       "        vertical-align: top;\n",
       "    }\n",
       "\n",
       "    .dataframe thead th {\n",
       "        text-align: right;\n",
       "    }\n",
       "</style>\n",
       "<table border=\"1\" class=\"dataframe\">\n",
       "  <thead>\n",
       "    <tr style=\"text-align: right;\">\n",
       "      <th></th>\n",
       "      <th>0</th>\n",
       "    </tr>\n",
       "    <tr>\n",
       "      <th>name</th>\n",
       "      <th></th>\n",
       "    </tr>\n",
       "  </thead>\n",
       "  <tbody>\n",
       "    <tr>\n",
       "      <th>arriba baked winter squash mexican style</th>\n",
       "      <td>0</td>\n",
       "    </tr>\n",
       "    <tr>\n",
       "      <th>a bit different breakfast pizza</th>\n",
       "      <td>1</td>\n",
       "    </tr>\n",
       "    <tr>\n",
       "      <th>all in the kitchen chili</th>\n",
       "      <td>2</td>\n",
       "    </tr>\n",
       "    <tr>\n",
       "      <th>alouette potatoes</th>\n",
       "      <td>3</td>\n",
       "    </tr>\n",
       "    <tr>\n",
       "      <th>amish tomato ketchup for canning</th>\n",
       "      <td>4</td>\n",
       "    </tr>\n",
       "    <tr>\n",
       "      <th>...</th>\n",
       "      <td>...</td>\n",
       "    </tr>\n",
       "    <tr>\n",
       "      <th>beef parmesan</th>\n",
       "      <td>20493</td>\n",
       "    </tr>\n",
       "    <tr>\n",
       "      <th>beef pasanda</th>\n",
       "      <td>20494</td>\n",
       "    </tr>\n",
       "    <tr>\n",
       "      <th>beef pasta bake</th>\n",
       "      <td>20495</td>\n",
       "    </tr>\n",
       "    <tr>\n",
       "      <th>beef pasties</th>\n",
       "      <td>20497</td>\n",
       "    </tr>\n",
       "    <tr>\n",
       "      <th>beef pastrami</th>\n",
       "      <td>20498</td>\n",
       "    </tr>\n",
       "  </tbody>\n",
       "</table>\n",
       "<p>20000 rows × 1 columns</p>\n",
       "</div><br><label><b>dtype:</b> int64</label>"
      ]
     },
     "metadata": {},
     "execution_count": 16
    }
   ]
  },
  {
   "cell_type": "markdown",
   "source": [
    "# Le programme principale"
   ],
   "metadata": {
    "id": "obwaCtEH_slP"
   }
  },
  {
   "cell_type": "code",
   "source": [
    "def get_recommendations(title, cosine_sim=cosine_sim):\n",
    "    try:\n",
    "      # On récupère la ligne des scores correspondant à la recette\n",
    "      sim_scores = list(enumerate(cosine_sim[indices[title]]))\n",
    "\n",
    "      # On trie cette liste du plus grand score au plus faible\n",
    "      sim_scores = sorted(sim_scores, key=lambda x: x[1], reverse=True)\n",
    "\n",
    "      # On retient que les 5 premiers scores (on a gardé la recette originelle pour comparer)\n",
    "      sim_scores = sim_scores[0:6]\n",
    "\n",
    "      # Transformation de la liste en dataframe\n",
    "      food_indices = [i[0] for i in sim_scores]\n",
    "\n",
    "      df_reco = pd.DataFrame({'index': food_indices, 'similarity': [i[1] for i in sim_scores]})\n",
    "      df_reco = pd.merge(df_reco, recipes_df[['name', 'ingredients', 'description', 'tags']], left_on='index', right_index=True)\n",
    "      df_reco = df_reco[['name', 'ingredients', 'description', 'tags', 'similarity']]\n",
    "\n",
    "      return df_reco\n",
    "\n",
    "    except:\n",
    "      print(\"La recette n'existe pas dans la base de données\")"
   ],
   "metadata": {
    "id": "1Q6V1uJaTFG4"
   },
   "execution_count": 17,
   "outputs": []
  },
  {
   "cell_type": "markdown",
   "source": [
    "### Lancement du programme"
   ],
   "metadata": {
    "id": "g9WQF7I6AEhi"
   }
  },
  {
   "cell_type": "code",
   "source": [
    "recette = input(\"Entrez le nom d'une recette : (ex. fool the meat eaters chili)\")\n",
    "print_df = get_recommendations(recette)\n",
    "\n",
    "if print_df is not None:\n",
    "   display(print_df.head())"
   ],
   "metadata": {
    "id": "wslCno6-TG6z",
    "colab": {
     "base_uri": "https://localhost:8080/"
    },
    "outputId": "cdf157a3-db26-4325-ff9a-845c73a79891"
   },
   "execution_count": 19,
   "outputs": [
    {
     "output_type": "stream",
     "name": "stdout",
     "text": [
      "Entrez le nom d'une recette : (ex. fool the meat eaters chili)fool the meat eaters chili m\n",
      "La recette n'existe pas dans la base de données\n"
     ]
    }
   ]
  }
 ]
}
