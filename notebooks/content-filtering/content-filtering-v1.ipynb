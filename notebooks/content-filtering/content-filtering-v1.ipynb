{
 "nbformat": 4,
 "nbformat_minor": 0,
 "metadata": {
  "colab": {
   "provenance": []
  },
  "kernelspec": {
   "name": "python3",
   "language": "python",
   "display_name": "Python 3 (ipykernel)"
  },
  "language_info": {
   "name": "python"
  }
 },
 "cells": [
  {
   "cell_type": "markdown",
   "source": [
    "# Gestion des biblothèques"
   ],
   "metadata": {
    "id": "nAF9k8X9z0lF"
   }
  },
  {
   "cell_type": "code",
   "source": [
    "import pandas as pd\n",
    "import string\n",
    "\n",
    "from sklearn.feature_extraction.text import TfidfVectorizer\n",
    "from sklearn.metrics.pairwise import cosine_similarity"
   ],
   "metadata": {
    "id": "dr1Hyyrrz6TY"
   },
   "execution_count": null,
   "outputs": []
  },
  {
   "cell_type": "markdown",
   "source": [
    "# Pré traitement des données"
   ],
   "metadata": {
    "id": "vg23peeh0Byh"
   }
  },
  {
   "cell_type": "markdown",
   "source": [
    "#### Importation du dataset"
   ],
   "metadata": {
    "id": "0_g2CPNe0i49"
   }
  },
  {
   "cell_type": "code",
   "source": [
    "recipes_df = pd.read_csv('../../data/raw/RAW_recipes.csv', on_bad_lines='skip', engine=\"python\")"
   ],
   "metadata": {
    "id": "vNpchX-B0Fy3"
   },
   "execution_count": null,
   "outputs": []
  },
  {
   "cell_type": "markdown",
   "source": [
    "### Suppression des colonnes inutiles"
   ],
   "metadata": {
    "id": "MXfiySov0gu-"
   }
  },
  {
   "cell_type": "code",
   "source": [
    "recipes_df = recipes_df.drop(['submitted', 'contributor_id', 'tags', 'minutes', 'description', 'nutrition', 'n_steps', 'n_ingredients', 'steps'], axis=1)\n",
    "recipes_df.info()"
   ],
   "metadata": {
    "id": "AolhD-QgCgk8",
    "colab": {
     "base_uri": "https://localhost:8080/"
    },
    "outputId": "951f5ef1-9242-4910-8089-c6132bff7955"
   },
   "execution_count": null,
   "outputs": []
  },
  {
   "cell_type": "markdown",
   "source": [
    "#### Suppression des lignes incorrectes"
   ],
   "metadata": {
    "id": "BWsyqTOD0q6x"
   }
  },
  {
   "cell_type": "code",
   "source": [
    "recipes_df.drop_duplicates()\n",
    "recipes_df.dropna(inplace=True)"
   ],
   "metadata": {
    "id": "h8NHBDfQ0srd"
   },
   "execution_count": null,
   "outputs": []
  },
  {
   "cell_type": "markdown",
   "source": [
    "#### Sélection des 20000 premières recettes"
   ],
   "metadata": {
    "id": "Oh0C6OWz13Np"
   }
  },
  {
   "cell_type": "code",
   "source": [
    "recipes_df = recipes_df.head(20000)"
   ],
   "metadata": {
    "id": "XOjxXctbPLh1"
   },
   "execution_count": null,
   "outputs": []
  },
  {
   "cell_type": "markdown",
   "source": [
    "#### Formattage du titre"
   ],
   "metadata": {
    "id": "QCha23Or6NoR"
   }
  },
  {
   "cell_type": "markdown",
   "source": [
    "Les titres sont rentrés manuellement par les utilisateurs. Ils contiennent parfois des espaces en trop, que nous allons chercher à supprimer"
   ],
   "metadata": {
    "id": "yxiPrQO-6i5-"
   }
  },
  {
   "cell_type": "code",
   "source": [
    "# Retourner le titre avec un seul espace entre les mots.\n",
    "def clean_recipe_titles(title):\n",
    "  words = title.split()\n",
    "  cleaned_title = ' '.join(words)\n",
    "  return cleaned_title"
   ],
   "metadata": {
    "id": "wb-avnMn6Qjk"
   },
   "execution_count": null,
   "outputs": []
  },
  {
   "cell_type": "code",
   "source": [
    "recipes_df.name = recipes_df.name.apply(clean_recipe_titles)"
   ],
   "metadata": {
    "id": "-2N2hZhN6Zgn"
   },
   "execution_count": null,
   "outputs": []
  },
  {
   "cell_type": "markdown",
   "source": [
    "#### Nettoyage des ingrédients"
   ],
   "metadata": {
    "id": "Jv7DkFcL1NYb"
   }
  },
  {
   "cell_type": "code",
   "source": [
    "def text_cleaning(text):\n",
    "    text  = \"\".join([char for char in text if char not in string.punctuation])\n",
    "    return text\n",
    "\n",
    "recipes_df['ingredients'] = recipes_df['ingredients'].apply(lambda x: text_cleaning(x))"
   ],
   "metadata": {
    "id": "RtEtio2g1U6D"
   },
   "execution_count": null,
   "outputs": []
  },
  {
   "cell_type": "markdown",
   "source": [
    "#### Affichage des la dimension du dataframe"
   ],
   "metadata": {
    "id": "hxoMuYw93YnC"
   }
  },
  {
   "cell_type": "code",
   "source": [
    "recipes_df.shape"
   ],
   "metadata": {
    "id": "aavwvzM5bMEA",
    "outputId": "f9e73c69-5928-4df8-c34f-28ca768845e2",
    "colab": {
     "base_uri": "https://localhost:8080/"
    }
   },
   "execution_count": null,
   "outputs": []
  },
  {
   "cell_type": "markdown",
   "source": [
    "#### Vérification du tri"
   ],
   "metadata": {
    "id": "tyE7Pdkj1cZs"
   }
  },
  {
   "cell_type": "code",
   "source": [
    "recipes_df.duplicated().sum()\n",
    "recipes_df.isnull().sum()"
   ],
   "metadata": {
    "id": "BzCtcDTR1kDW",
    "colab": {
     "base_uri": "https://localhost:8080/",
     "height": 178
    },
    "outputId": "f697d405-d073-4135-ebbb-777abc69ecd0"
   },
   "execution_count": null,
   "outputs": []
  },
  {
   "cell_type": "markdown",
   "source": [
    "# Filtrage par contenu"
   ],
   "metadata": {
    "id": "G4VNnybS1mDx"
   }
  },
  {
   "cell_type": "markdown",
   "source": [
    "### Utilisation de TF-IDF"
   ],
   "metadata": {
    "id": "hGKCEhEx1vKI"
   }
  },
  {
   "cell_type": "markdown",
   "source": [
    "On accepte 20000 mots de vocabulaire au maximum et on supprime les particules anglaises"
   ],
   "metadata": {
    "id": "nGgfABv-3voZ"
   }
  },
  {
   "cell_type": "code",
   "source": [
    "tfidf = TfidfVectorizer(stop_words='english', max_features=20000)"
   ],
   "metadata": {
    "id": "gG0bxmeT1_Lu"
   },
   "execution_count": null,
   "outputs": []
  },
  {
   "cell_type": "markdown",
   "source": [
    "On applique le procession à notre colonne des ingrédients"
   ],
   "metadata": {
    "id": "TCyl-6qG4T7z"
   }
  },
  {
   "cell_type": "code",
   "source": [
    "tfidf_matrix = tfidf.fit_transform(recipes_df['ingredients'])\n",
    "tfidf_matrix.shape"
   ],
   "metadata": {
    "colab": {
     "base_uri": "https://localhost:8080/"
    },
    "id": "BWg6zEWQ31vD",
    "outputId": "4a75f0e9-7034-4635-8380-d533cece4702"
   },
   "execution_count": null,
   "outputs": []
  },
  {
   "cell_type": "markdown",
   "source": [
    "### Création du linear kernel"
   ],
   "metadata": {
    "id": "WMngZwKN2Gjp"
   }
  },
  {
   "cell_type": "markdown",
   "source": [
    "On calcule les angles entre la matrice TF-IDF en ligne et en colonne"
   ],
   "metadata": {
    "id": "SLzGcjXE8alX"
   }
  },
  {
   "cell_type": "code",
   "source": [
    "cosine_sim = cosine_similarity(tfidf_matrix, tfidf_matrix)"
   ],
   "metadata": {
    "id": "GQ4FbTkk2TEi"
   },
   "execution_count": null,
   "outputs": []
  },
  {
   "cell_type": "markdown",
   "source": [
    "### Création des indices"
   ],
   "metadata": {
    "id": "bHKTLwIGDOTx"
   }
  },
  {
   "cell_type": "markdown",
   "source": [
    "Les indices permettes de rechercher dans le dataframe des recettes. Les id ne correspondant plus à l'index du tableau"
   ],
   "metadata": {
    "id": "IHDdJXKo4JCR"
   }
  },
  {
   "cell_type": "code",
   "source": [
    "indices = pd.Series(recipes_df.index, index=recipes_df['name']).drop_duplicates()\n",
    "indices"
   ],
   "metadata": {
    "id": "2L6OcM9ZDR9c",
    "colab": {
     "base_uri": "https://localhost:8080/",
     "height": 489
    },
    "outputId": "3b7f5db5-021c-4f15-bccd-7ea537d723bc"
   },
   "execution_count": null,
   "outputs": []
  },
  {
   "cell_type": "markdown",
   "source": [
    "# Le programme principale"
   ],
   "metadata": {
    "id": "H__Lcj4XDfT3"
   }
  },
  {
   "cell_type": "markdown",
   "source": [
    "#### Récupération des données"
   ],
   "metadata": {
    "id": "2BaaHH1u5XWK"
   }
  },
  {
   "cell_type": "code",
   "source": [
    "def get_recommendations(title, cosine_sim=cosine_sim):\n",
    "    try:\n",
    "      # On récupère la ligne des scores correspondant à la recette\n",
    "      sim_scores = list(enumerate(cosine_sim[indices[title]]))\n",
    "\n",
    "      # On trie cette liste du plus grand score au plus faible\n",
    "      sim_scores = sorted(sim_scores, key=lambda x: x[1], reverse=True)\n",
    "\n",
    "      # On retient que les 5 premiers scores (on a gardé la recette originelle pour comparer)\n",
    "      sim_scores = sim_scores[0:6]\n",
    "\n",
    "      # Transformation de la liste en dataframe\n",
    "      food_indices = [i[0] for i in sim_scores]\n",
    "\n",
    "      df_reco = pd.DataFrame({'index': food_indices, 'similarity': [i[1] for i in sim_scores]})\n",
    "      df_reco = pd.merge(df_reco, recipes_df[['name', 'ingredients']], left_on='index', right_index=True)\n",
    "      df_reco = df_reco[['name', 'ingredients', 'similarity']]\n",
    "\n",
    "      return df_reco\n",
    "\n",
    "    except:\n",
    "      print(\"La recette n'existe pas dans la base de données\")"
   ],
   "metadata": {
    "id": "wi8uEreUDjME"
   },
   "execution_count": null,
   "outputs": []
  },
  {
   "cell_type": "markdown",
   "source": [
    "### Lancement du programme"
   ],
   "metadata": {
    "id": "Ieo9QC1Q5iLu"
   }
  },
  {
   "cell_type": "code",
   "source": [
    "recette = input(\"Entrez le nom d'une recette : (ex. fool the meat eaters chili)\")\n",
    "print_df = get_recommendations(recette)\n",
    "\n",
    "if print_df is not None:\n",
    "   display(print_df.head())"
   ],
   "metadata": {
    "id": "I4v3eoKzPvcW",
    "colab": {
     "base_uri": "https://localhost:8080/"
    },
    "outputId": "4111517a-6c4a-485b-cb7c-e2425993d7bc"
   },
   "execution_count": null,
   "outputs": []
  }
 ]
}
