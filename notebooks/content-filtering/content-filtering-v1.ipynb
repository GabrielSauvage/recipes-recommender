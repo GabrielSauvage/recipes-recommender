{
 "nbformat": 4,
 "nbformat_minor": 0,
 "metadata": {
  "colab": {
   "provenance": []
  },
  "kernelspec": {
   "name": "python3",
   "language": "python",
   "display_name": "Python 3 (ipykernel)"
  },
  "language_info": {
   "name": "python"
  }
 },
 "cells": [
  {
   "cell_type": "markdown",
   "source": [
    "# Gestion des biblothèques"
   ],
   "metadata": {
    "id": "nAF9k8X9z0lF"
   }
  },
  {
   "cell_type": "code",
   "source": [
    "import pandas as pd\n",
    "import string\n",
    "\n",
    "from sklearn.feature_extraction.text import TfidfVectorizer\n",
    "from sklearn.metrics.pairwise import cosine_similarity"
   ],
   "metadata": {
    "id": "dr1Hyyrrz6TY",
    "ExecuteTime": {
     "end_time": "2025-01-13T19:04:27.711427Z",
     "start_time": "2025-01-13T19:04:27.707525Z"
    }
   },
   "execution_count": 18,
   "outputs": []
  },
  {
   "cell_type": "markdown",
   "source": [
    "# Pré traitement des données"
   ],
   "metadata": {
    "id": "vg23peeh0Byh"
   }
  },
  {
   "cell_type": "markdown",
   "source": [
    "#### Importation du dataset"
   ],
   "metadata": {
    "id": "0_g2CPNe0i49"
   }
  },
  {
   "cell_type": "code",
   "source": [
    "recipes_df = pd.read_csv('../../data/raw/RAW_recipes.csv', on_bad_lines='skip', engine=\"python\")"
   ],
   "metadata": {
    "id": "vNpchX-B0Fy3",
    "ExecuteTime": {
     "end_time": "2025-01-13T19:04:34.477875Z",
     "start_time": "2025-01-13T19:04:27.810886Z"
    }
   },
   "execution_count": 19,
   "outputs": []
  },
  {
   "cell_type": "markdown",
   "source": [
    "### Suppression des colonnes inutiles"
   ],
   "metadata": {
    "id": "MXfiySov0gu-"
   }
  },
  {
   "cell_type": "code",
   "source": [
    "recipes_df = recipes_df.drop(['submitted', 'contributor_id', 'tags', 'minutes', 'description', 'nutrition', 'n_steps', 'n_ingredients', 'steps'], axis=1)\n",
    "recipes_df.info()"
   ],
   "metadata": {
    "id": "AolhD-QgCgk8",
    "colab": {
     "base_uri": "https://localhost:8080/"
    },
    "outputId": "951f5ef1-9242-4910-8089-c6132bff7955",
    "ExecuteTime": {
     "end_time": "2025-01-13T19:04:34.630389Z",
     "start_time": "2025-01-13T19:04:34.482074Z"
    }
   },
   "execution_count": 20,
   "outputs": [
    {
     "name": "stdout",
     "output_type": "stream",
     "text": [
      "<class 'pandas.core.frame.DataFrame'>\n",
      "RangeIndex: 231637 entries, 0 to 231636\n",
      "Data columns (total 3 columns):\n",
      " #   Column       Non-Null Count   Dtype \n",
      "---  ------       --------------   ----- \n",
      " 0   name         231636 non-null  object\n",
      " 1   id           231637 non-null  int64 \n",
      " 2   ingredients  231637 non-null  object\n",
      "dtypes: int64(1), object(2)\n",
      "memory usage: 5.3+ MB\n"
     ]
    }
   ]
  },
  {
   "cell_type": "markdown",
   "source": [
    "#### Suppression des lignes incorrectes"
   ],
   "metadata": {
    "id": "BWsyqTOD0q6x"
   }
  },
  {
   "cell_type": "code",
   "source": [
    "recipes_df.drop_duplicates()\n",
    "recipes_df.dropna(inplace=True)"
   ],
   "metadata": {
    "id": "h8NHBDfQ0srd",
    "ExecuteTime": {
     "end_time": "2025-01-13T19:04:35.013536Z",
     "start_time": "2025-01-13T19:04:34.631448Z"
    }
   },
   "execution_count": 21,
   "outputs": []
  },
  {
   "cell_type": "markdown",
   "source": [
    "#### Sélection des 20000 premières recettes"
   ],
   "metadata": {
    "id": "Oh0C6OWz13Np"
   }
  },
  {
   "cell_type": "code",
   "source": [
    "recipes_df = recipes_df.head(20000)"
   ],
   "metadata": {
    "id": "XOjxXctbPLh1",
    "ExecuteTime": {
     "end_time": "2025-01-13T19:04:35.019237Z",
     "start_time": "2025-01-13T19:04:35.014602Z"
    }
   },
   "execution_count": 22,
   "outputs": []
  },
  {
   "cell_type": "markdown",
   "source": [
    "#### Formattage du titre"
   ],
   "metadata": {
    "id": "QCha23Or6NoR"
   }
  },
  {
   "cell_type": "markdown",
   "source": [
    "Les titres sont rentrés manuellement par les utilisateurs. Ils contiennent parfois des espaces en trop, que nous allons chercher à supprimer"
   ],
   "metadata": {
    "id": "yxiPrQO-6i5-"
   }
  },
  {
   "cell_type": "code",
   "source": [
    "# Retourner le titre avec un seul espace entre les mots.\n",
    "def clean_recipe_titles(title):\n",
    "  words = title.split()\n",
    "  cleaned_title = ' '.join(words)\n",
    "  return cleaned_title"
   ],
   "metadata": {
    "id": "wb-avnMn6Qjk",
    "ExecuteTime": {
     "end_time": "2025-01-13T19:04:35.040856Z",
     "start_time": "2025-01-13T19:04:35.020309Z"
    }
   },
   "execution_count": 23,
   "outputs": []
  },
  {
   "cell_type": "code",
   "source": [
    "recipes_df.name = recipes_df.name.apply(clean_recipe_titles)"
   ],
   "metadata": {
    "id": "-2N2hZhN6Zgn",
    "ExecuteTime": {
     "end_time": "2025-01-13T19:04:35.072958Z",
     "start_time": "2025-01-13T19:04:35.041857Z"
    }
   },
   "execution_count": 24,
   "outputs": []
  },
  {
   "cell_type": "markdown",
   "source": [
    "#### Nettoyage des ingrédients"
   ],
   "metadata": {
    "id": "Jv7DkFcL1NYb"
   }
  },
  {
   "cell_type": "code",
   "source": [
    "def text_cleaning(text):\n",
    "    text  = \"\".join([char for char in text if char not in string.punctuation])\n",
    "    return text\n",
    "\n",
    "recipes_df['ingredients'] = recipes_df['ingredients'].apply(lambda x: text_cleaning(x))"
   ],
   "metadata": {
    "id": "RtEtio2g1U6D",
    "ExecuteTime": {
     "end_time": "2025-01-13T19:04:35.393512Z",
     "start_time": "2025-01-13T19:04:35.074050Z"
    }
   },
   "execution_count": 25,
   "outputs": []
  },
  {
   "cell_type": "markdown",
   "source": [
    "#### Affichage des la dimension du dataframe"
   ],
   "metadata": {
    "id": "hxoMuYw93YnC"
   }
  },
  {
   "cell_type": "code",
   "source": [
    "recipes_df.shape"
   ],
   "metadata": {
    "id": "aavwvzM5bMEA",
    "outputId": "f9e73c69-5928-4df8-c34f-28ca768845e2",
    "colab": {
     "base_uri": "https://localhost:8080/"
    },
    "ExecuteTime": {
     "end_time": "2025-01-13T19:04:35.402985Z",
     "start_time": "2025-01-13T19:04:35.394589Z"
    }
   },
   "execution_count": 26,
   "outputs": [
    {
     "data": {
      "text/plain": "(20000, 3)"
     },
     "execution_count": 26,
     "metadata": {},
     "output_type": "execute_result"
    }
   ]
  },
  {
   "cell_type": "markdown",
   "source": [
    "#### Vérification du tri"
   ],
   "metadata": {
    "id": "tyE7Pdkj1cZs"
   }
  },
  {
   "cell_type": "code",
   "source": [
    "recipes_df.duplicated().sum()\n",
    "recipes_df.isnull().sum()"
   ],
   "metadata": {
    "id": "BzCtcDTR1kDW",
    "colab": {
     "base_uri": "https://localhost:8080/",
     "height": 178
    },
    "outputId": "f697d405-d073-4135-ebbb-777abc69ecd0",
    "ExecuteTime": {
     "end_time": "2025-01-13T19:04:35.446932Z",
     "start_time": "2025-01-13T19:04:35.404221Z"
    }
   },
   "execution_count": 27,
   "outputs": [
    {
     "data": {
      "text/plain": "name           0\nid             0\ningredients    0\ndtype: int64"
     },
     "execution_count": 27,
     "metadata": {},
     "output_type": "execute_result"
    }
   ]
  },
  {
   "cell_type": "markdown",
   "source": [
    "# Filtrage par contenu"
   ],
   "metadata": {
    "id": "G4VNnybS1mDx"
   }
  },
  {
   "cell_type": "markdown",
   "source": [
    "### Utilisation de TF-IDF"
   ],
   "metadata": {
    "id": "hGKCEhEx1vKI"
   }
  },
  {
   "cell_type": "markdown",
   "source": [
    "On accepte 20000 mots de vocabulaire au maximum et on supprime les particules anglaises"
   ],
   "metadata": {
    "id": "nGgfABv-3voZ"
   }
  },
  {
   "cell_type": "code",
   "source": [
    "tfidf = TfidfVectorizer(stop_words='english', max_features=20000)"
   ],
   "metadata": {
    "id": "gG0bxmeT1_Lu",
    "ExecuteTime": {
     "end_time": "2025-01-13T19:04:35.453465Z",
     "start_time": "2025-01-13T19:04:35.449154Z"
    }
   },
   "execution_count": 28,
   "outputs": []
  },
  {
   "cell_type": "markdown",
   "source": [
    "On applique le procession à notre colonne des ingrédients"
   ],
   "metadata": {
    "id": "TCyl-6qG4T7z"
   }
  },
  {
   "cell_type": "code",
   "source": [
    "tfidf_matrix = tfidf.fit_transform(recipes_df['ingredients'])\n",
    "tfidf_matrix.shape"
   ],
   "metadata": {
    "colab": {
     "base_uri": "https://localhost:8080/"
    },
    "id": "BWg6zEWQ31vD",
    "outputId": "4a75f0e9-7034-4635-8380-d533cece4702",
    "ExecuteTime": {
     "end_time": "2025-01-13T19:04:35.879666Z",
     "start_time": "2025-01-13T19:04:35.454535Z"
    }
   },
   "execution_count": 29,
   "outputs": [
    {
     "data": {
      "text/plain": "(20000, 2562)"
     },
     "execution_count": 29,
     "metadata": {},
     "output_type": "execute_result"
    }
   ]
  },
  {
   "cell_type": "markdown",
   "source": [
    "### Création du linear kernel"
   ],
   "metadata": {
    "id": "WMngZwKN2Gjp"
   }
  },
  {
   "cell_type": "markdown",
   "source": [
    "On calcule les angles entre la matrice TF-IDF en ligne et en colonne"
   ],
   "metadata": {
    "id": "SLzGcjXE8alX"
   }
  },
  {
   "cell_type": "code",
   "source": [
    "cosine_sim = cosine_similarity(tfidf_matrix, tfidf_matrix)"
   ],
   "metadata": {
    "id": "GQ4FbTkk2TEi",
    "ExecuteTime": {
     "end_time": "2025-01-13T19:04:47.888400Z",
     "start_time": "2025-01-13T19:04:35.881849Z"
    }
   },
   "execution_count": 30,
   "outputs": [
    {
     "ename": "MemoryError",
     "evalue": "Unable to allocate 2.98 GiB for an array with shape (20000, 20000) and data type float64",
     "output_type": "error",
     "traceback": [
      "\u001B[1;31m---------------------------------------------------------------------------\u001B[0m",
      "\u001B[1;31mMemoryError\u001B[0m                               Traceback (most recent call last)",
      "Cell \u001B[1;32mIn[30], line 1\u001B[0m\n\u001B[1;32m----> 1\u001B[0m cosine_sim \u001B[38;5;241m=\u001B[39m \u001B[43mcosine_similarity\u001B[49m\u001B[43m(\u001B[49m\u001B[43mtfidf_matrix\u001B[49m\u001B[43m,\u001B[49m\u001B[43m \u001B[49m\u001B[43mtfidf_matrix\u001B[49m\u001B[43m)\u001B[49m\n",
      "File \u001B[1;32mD:\\ECOLE\\ESEO\\3eme_cycle\\IA\\Projet\\recipes-recommender\\.venv\\Lib\\site-packages\\sklearn\\utils\\_param_validation.py:213\u001B[0m, in \u001B[0;36mvalidate_params.<locals>.decorator.<locals>.wrapper\u001B[1;34m(*args, **kwargs)\u001B[0m\n\u001B[0;32m    207\u001B[0m \u001B[38;5;28;01mtry\u001B[39;00m:\n\u001B[0;32m    208\u001B[0m     \u001B[38;5;28;01mwith\u001B[39;00m config_context(\n\u001B[0;32m    209\u001B[0m         skip_parameter_validation\u001B[38;5;241m=\u001B[39m(\n\u001B[0;32m    210\u001B[0m             prefer_skip_nested_validation \u001B[38;5;129;01mor\u001B[39;00m global_skip_validation\n\u001B[0;32m    211\u001B[0m         )\n\u001B[0;32m    212\u001B[0m     ):\n\u001B[1;32m--> 213\u001B[0m         \u001B[38;5;28;01mreturn\u001B[39;00m \u001B[43mfunc\u001B[49m\u001B[43m(\u001B[49m\u001B[38;5;241;43m*\u001B[39;49m\u001B[43margs\u001B[49m\u001B[43m,\u001B[49m\u001B[43m \u001B[49m\u001B[38;5;241;43m*\u001B[39;49m\u001B[38;5;241;43m*\u001B[39;49m\u001B[43mkwargs\u001B[49m\u001B[43m)\u001B[49m\n\u001B[0;32m    214\u001B[0m \u001B[38;5;28;01mexcept\u001B[39;00m InvalidParameterError \u001B[38;5;28;01mas\u001B[39;00m e:\n\u001B[0;32m    215\u001B[0m     \u001B[38;5;66;03m# When the function is just a wrapper around an estimator, we allow\u001B[39;00m\n\u001B[0;32m    216\u001B[0m     \u001B[38;5;66;03m# the function to delegate validation to the estimator, but we replace\u001B[39;00m\n\u001B[0;32m    217\u001B[0m     \u001B[38;5;66;03m# the name of the estimator by the name of the function in the error\u001B[39;00m\n\u001B[0;32m    218\u001B[0m     \u001B[38;5;66;03m# message to avoid confusion.\u001B[39;00m\n\u001B[0;32m    219\u001B[0m     msg \u001B[38;5;241m=\u001B[39m re\u001B[38;5;241m.\u001B[39msub(\n\u001B[0;32m    220\u001B[0m         \u001B[38;5;124mr\u001B[39m\u001B[38;5;124m\"\u001B[39m\u001B[38;5;124mparameter of \u001B[39m\u001B[38;5;124m\\\u001B[39m\u001B[38;5;124mw+ must be\u001B[39m\u001B[38;5;124m\"\u001B[39m,\n\u001B[0;32m    221\u001B[0m         \u001B[38;5;124mf\u001B[39m\u001B[38;5;124m\"\u001B[39m\u001B[38;5;124mparameter of \u001B[39m\u001B[38;5;132;01m{\u001B[39;00mfunc\u001B[38;5;241m.\u001B[39m\u001B[38;5;18m__qualname__\u001B[39m\u001B[38;5;132;01m}\u001B[39;00m\u001B[38;5;124m must be\u001B[39m\u001B[38;5;124m\"\u001B[39m,\n\u001B[0;32m    222\u001B[0m         \u001B[38;5;28mstr\u001B[39m(e),\n\u001B[0;32m    223\u001B[0m     )\n",
      "File \u001B[1;32mD:\\ECOLE\\ESEO\\3eme_cycle\\IA\\Projet\\recipes-recommender\\.venv\\Lib\\site-packages\\sklearn\\metrics\\pairwise.py:1687\u001B[0m, in \u001B[0;36mcosine_similarity\u001B[1;34m(X, Y, dense_output)\u001B[0m\n\u001B[0;32m   1684\u001B[0m \u001B[38;5;28;01melse\u001B[39;00m:\n\u001B[0;32m   1685\u001B[0m     Y_normalized \u001B[38;5;241m=\u001B[39m normalize(Y, copy\u001B[38;5;241m=\u001B[39m\u001B[38;5;28;01mTrue\u001B[39;00m)\n\u001B[1;32m-> 1687\u001B[0m K \u001B[38;5;241m=\u001B[39m \u001B[43msafe_sparse_dot\u001B[49m\u001B[43m(\u001B[49m\u001B[43mX_normalized\u001B[49m\u001B[43m,\u001B[49m\u001B[43m \u001B[49m\u001B[43mY_normalized\u001B[49m\u001B[38;5;241;43m.\u001B[39;49m\u001B[43mT\u001B[49m\u001B[43m,\u001B[49m\u001B[43m \u001B[49m\u001B[43mdense_output\u001B[49m\u001B[38;5;241;43m=\u001B[39;49m\u001B[43mdense_output\u001B[49m\u001B[43m)\u001B[49m\n\u001B[0;32m   1689\u001B[0m \u001B[38;5;28;01mreturn\u001B[39;00m K\n",
      "File \u001B[1;32mD:\\ECOLE\\ESEO\\3eme_cycle\\IA\\Projet\\recipes-recommender\\.venv\\Lib\\site-packages\\sklearn\\utils\\extmath.py:213\u001B[0m, in \u001B[0;36msafe_sparse_dot\u001B[1;34m(a, b, dense_output)\u001B[0m\n\u001B[0;32m    205\u001B[0m     ret \u001B[38;5;241m=\u001B[39m a \u001B[38;5;241m@\u001B[39m b\n\u001B[0;32m    207\u001B[0m \u001B[38;5;28;01mif\u001B[39;00m (\n\u001B[0;32m    208\u001B[0m     sparse\u001B[38;5;241m.\u001B[39missparse(a)\n\u001B[0;32m    209\u001B[0m     \u001B[38;5;129;01mand\u001B[39;00m sparse\u001B[38;5;241m.\u001B[39missparse(b)\n\u001B[0;32m    210\u001B[0m     \u001B[38;5;129;01mand\u001B[39;00m dense_output\n\u001B[0;32m    211\u001B[0m     \u001B[38;5;129;01mand\u001B[39;00m \u001B[38;5;28mhasattr\u001B[39m(ret, \u001B[38;5;124m\"\u001B[39m\u001B[38;5;124mtoarray\u001B[39m\u001B[38;5;124m\"\u001B[39m)\n\u001B[0;32m    212\u001B[0m ):\n\u001B[1;32m--> 213\u001B[0m     \u001B[38;5;28;01mreturn\u001B[39;00m \u001B[43mret\u001B[49m\u001B[38;5;241;43m.\u001B[39;49m\u001B[43mtoarray\u001B[49m\u001B[43m(\u001B[49m\u001B[43m)\u001B[49m\n\u001B[0;32m    214\u001B[0m \u001B[38;5;28;01mreturn\u001B[39;00m ret\n",
      "File \u001B[1;32mD:\\ECOLE\\ESEO\\3eme_cycle\\IA\\Projet\\recipes-recommender\\.venv\\Lib\\site-packages\\scipy\\sparse\\_compressed.py:1181\u001B[0m, in \u001B[0;36m_cs_matrix.toarray\u001B[1;34m(self, order, out)\u001B[0m\n\u001B[0;32m   1179\u001B[0m \u001B[38;5;28;01mif\u001B[39;00m out \u001B[38;5;129;01mis\u001B[39;00m \u001B[38;5;28;01mNone\u001B[39;00m \u001B[38;5;129;01mand\u001B[39;00m order \u001B[38;5;129;01mis\u001B[39;00m \u001B[38;5;28;01mNone\u001B[39;00m:\n\u001B[0;32m   1180\u001B[0m     order \u001B[38;5;241m=\u001B[39m \u001B[38;5;28mself\u001B[39m\u001B[38;5;241m.\u001B[39m_swap(\u001B[38;5;124m'\u001B[39m\u001B[38;5;124mcf\u001B[39m\u001B[38;5;124m'\u001B[39m)[\u001B[38;5;241m0\u001B[39m]\n\u001B[1;32m-> 1181\u001B[0m out \u001B[38;5;241m=\u001B[39m \u001B[38;5;28;43mself\u001B[39;49m\u001B[38;5;241;43m.\u001B[39;49m\u001B[43m_process_toarray_args\u001B[49m\u001B[43m(\u001B[49m\u001B[43morder\u001B[49m\u001B[43m,\u001B[49m\u001B[43m \u001B[49m\u001B[43mout\u001B[49m\u001B[43m)\u001B[49m\n\u001B[0;32m   1182\u001B[0m \u001B[38;5;28;01mif\u001B[39;00m \u001B[38;5;129;01mnot\u001B[39;00m (out\u001B[38;5;241m.\u001B[39mflags\u001B[38;5;241m.\u001B[39mc_contiguous \u001B[38;5;129;01mor\u001B[39;00m out\u001B[38;5;241m.\u001B[39mflags\u001B[38;5;241m.\u001B[39mf_contiguous):\n\u001B[0;32m   1183\u001B[0m     \u001B[38;5;28;01mraise\u001B[39;00m \u001B[38;5;167;01mValueError\u001B[39;00m(\u001B[38;5;124m'\u001B[39m\u001B[38;5;124mOutput array must be C or F contiguous\u001B[39m\u001B[38;5;124m'\u001B[39m)\n",
      "File \u001B[1;32mD:\\ECOLE\\ESEO\\3eme_cycle\\IA\\Projet\\recipes-recommender\\.venv\\Lib\\site-packages\\scipy\\sparse\\_base.py:1301\u001B[0m, in \u001B[0;36m_spbase._process_toarray_args\u001B[1;34m(self, order, out)\u001B[0m\n\u001B[0;32m   1299\u001B[0m     \u001B[38;5;28;01mreturn\u001B[39;00m out\n\u001B[0;32m   1300\u001B[0m \u001B[38;5;28;01melse\u001B[39;00m:\n\u001B[1;32m-> 1301\u001B[0m     \u001B[38;5;28;01mreturn\u001B[39;00m \u001B[43mnp\u001B[49m\u001B[38;5;241;43m.\u001B[39;49m\u001B[43mzeros\u001B[49m\u001B[43m(\u001B[49m\u001B[38;5;28;43mself\u001B[39;49m\u001B[38;5;241;43m.\u001B[39;49m\u001B[43mshape\u001B[49m\u001B[43m,\u001B[49m\u001B[43m \u001B[49m\u001B[43mdtype\u001B[49m\u001B[38;5;241;43m=\u001B[39;49m\u001B[38;5;28;43mself\u001B[39;49m\u001B[38;5;241;43m.\u001B[39;49m\u001B[43mdtype\u001B[49m\u001B[43m,\u001B[49m\u001B[43m \u001B[49m\u001B[43morder\u001B[49m\u001B[38;5;241;43m=\u001B[39;49m\u001B[43morder\u001B[49m\u001B[43m)\u001B[49m\n",
      "\u001B[1;31mMemoryError\u001B[0m: Unable to allocate 2.98 GiB for an array with shape (20000, 20000) and data type float64"
     ]
    }
   ]
  },
  {
   "cell_type": "markdown",
   "source": [
    "### Création des indices"
   ],
   "metadata": {
    "id": "bHKTLwIGDOTx"
   }
  },
  {
   "cell_type": "markdown",
   "source": [
    "Les indices permettes de rechercher dans le dataframe des recettes. Les id ne correspondant plus à l'index du tableau"
   ],
   "metadata": {
    "id": "IHDdJXKo4JCR"
   }
  },
  {
   "cell_type": "code",
   "source": [
    "indices = pd.Series(recipes_df.index, index=recipes_df['name']).drop_duplicates()\n",
    "indices"
   ],
   "metadata": {
    "id": "2L6OcM9ZDR9c",
    "colab": {
     "base_uri": "https://localhost:8080/",
     "height": 489
    },
    "outputId": "3b7f5db5-021c-4f15-bccd-7ea537d723bc"
   },
   "execution_count": null,
   "outputs": []
  },
  {
   "cell_type": "markdown",
   "source": [
    "# Le programme principale"
   ],
   "metadata": {
    "id": "H__Lcj4XDfT3"
   }
  },
  {
   "cell_type": "markdown",
   "source": [
    "#### Récupération des données"
   ],
   "metadata": {
    "id": "2BaaHH1u5XWK"
   }
  },
  {
   "cell_type": "code",
   "source": [
    "def get_recommendations(title, cosine_sim=cosine_sim):\n",
    "    try:\n",
    "      # On récupère la ligne des scores correspondant à la recette\n",
    "      sim_scores = list(enumerate(cosine_sim[indices[title]]))\n",
    "\n",
    "      # On trie cette liste du plus grand score au plus faible\n",
    "      sim_scores = sorted(sim_scores, key=lambda x: x[1], reverse=True)\n",
    "\n",
    "      # On retient que les 5 premiers scores (on a gardé la recette originelle pour comparer)\n",
    "      sim_scores = sim_scores[0:6]\n",
    "\n",
    "      # Transformation de la liste en dataframe\n",
    "      food_indices = [i[0] for i in sim_scores]\n",
    "\n",
    "      df_reco = pd.DataFrame({'index': food_indices, 'similarity': [i[1] for i in sim_scores]})\n",
    "      df_reco = pd.merge(df_reco, recipes_df[['name', 'ingredients']], left_on='index', right_index=True)\n",
    "      df_reco = df_reco[['name', 'ingredients', 'similarity']]\n",
    "\n",
    "      return df_reco\n",
    "\n",
    "    except:\n",
    "      print(\"La recette n'existe pas dans la base de données\")"
   ],
   "metadata": {
    "id": "wi8uEreUDjME",
    "ExecuteTime": {
     "end_time": "2025-01-13T19:04:47.894585Z",
     "start_time": "2025-01-13T19:04:47.892538Z"
    }
   },
   "execution_count": null,
   "outputs": []
  },
  {
   "cell_type": "markdown",
   "source": [
    "### Lancement du programme"
   ],
   "metadata": {
    "id": "Ieo9QC1Q5iLu"
   }
  },
  {
   "cell_type": "code",
   "source": [
    "recette = input(\"Entrez le nom d'une recette : (ex. fool the meat eaters chili)\")\n",
    "print_df = get_recommendations(recette)\n",
    "\n",
    "if print_df is not None:\n",
    "   display(print_df.head())"
   ],
   "metadata": {
    "id": "I4v3eoKzPvcW",
    "colab": {
     "base_uri": "https://localhost:8080/"
    },
    "outputId": "4111517a-6c4a-485b-cb7c-e2425993d7bc"
   },
   "execution_count": null,
   "outputs": []
  }
 ]
}
