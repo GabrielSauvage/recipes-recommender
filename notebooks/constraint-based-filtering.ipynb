{
 "cells": [
  {
   "cell_type": "markdown",
   "source": [
    "# Gestion des biblothèques"
   ],
   "metadata": {
    "collapsed": false,
    "id": "daf8877aae65fedd"
   },
   "id": "daf8877aae65fedd"
  },
  {
   "cell_type": "markdown",
   "source": [
    "### Installation de pulp"
   ],
   "metadata": {
    "id": "VfaCoZ0qM6rR"
   },
   "id": "VfaCoZ0qM6rR"
  },
  {
   "cell_type": "code",
   "source": [
    "!pip install pulp"
   ],
   "metadata": {
    "colab": {
     "base_uri": "https://localhost:8080/"
    },
    "id": "xht5XYrqhOoY",
    "outputId": "6eef5f1a-9c69-416b-f90c-d9d8cdc64ff3",
    "ExecuteTime": {
     "end_time": "2025-01-13T19:00:58.868104Z",
     "start_time": "2025-01-13T19:00:55.170249Z"
    }
   },
   "id": "xht5XYrqhOoY",
   "execution_count": 7,
   "outputs": [
    {
     "name": "stdout",
     "output_type": "stream",
     "text": [
      "Requirement already satisfied: pulp in d:\\ecole\\eseo\\3eme_cycle\\ia\\projet\\recipes-recommender\\.venv\\lib\\site-packages (2.9.0)\n"
     ]
    },
    {
     "name": "stderr",
     "output_type": "stream",
     "text": [
      "\n",
      "[notice] A new release of pip is available: 23.2.1 -> 24.3.1\n",
      "[notice] To update, run: python.exe -m pip install --upgrade pip\n"
     ]
    }
   ]
  },
  {
   "cell_type": "markdown",
   "source": [
    "### Importation des bibliothèques"
   ],
   "metadata": {
    "id": "aFnUMyJ1M_rA"
   },
   "id": "aFnUMyJ1M_rA"
  },
  {
   "cell_type": "code",
   "source": [
    "from pulp import LpProblem, LpVariable, lpSum, LpMaximize\n",
    "import pandas as pd\n",
    "import ast"
   ],
   "metadata": {
    "id": "xH1fSXC1hMb9",
    "ExecuteTime": {
     "end_time": "2025-01-13T19:00:58.873852Z",
     "start_time": "2025-01-13T19:00:58.869169Z"
    }
   },
   "id": "xH1fSXC1hMb9",
   "execution_count": 8,
   "outputs": []
  },
  {
   "cell_type": "markdown",
   "source": [
    "# Pré traitement des données"
   ],
   "metadata": {
    "id": "imBCSzPZNFu5"
   },
   "id": "imBCSzPZNFu5"
  },
  {
   "cell_type": "markdown",
   "source": [
    "### Importation du dataset"
   ],
   "metadata": {
    "id": "0FqPO_WUNKv2"
   },
   "id": "0FqPO_WUNKv2"
  },
  {
   "cell_type": "code",
   "source": [
    "recipes_df = pd.read_csv(\"../data/raw/RAW_recipes.csv\")"
   ],
   "metadata": {
    "id": "7hTczDl9jVkj",
    "ExecuteTime": {
     "end_time": "2025-01-13T19:01:03.624036Z",
     "start_time": "2025-01-13T19:00:58.876244Z"
    }
   },
   "id": "7hTczDl9jVkj",
   "execution_count": 9,
   "outputs": []
  },
  {
   "cell_type": "markdown",
   "source": [
    "### Suppression des colonnes inutiles"
   ],
   "metadata": {
    "id": "rZOcxyflNQ9d"
   },
   "id": "rZOcxyflNQ9d"
  },
  {
   "cell_type": "code",
   "source": [
    "recipes_df = recipes_df.drop(columns=['id', 'submitted', 'contributor_id', 'tags', 'description', 'ingredients', 'steps'])\n",
    "recipes_df.info()"
   ],
   "metadata": {
    "colab": {
     "base_uri": "https://localhost:8080/"
    },
    "id": "Nfu56bEfNPlp",
    "outputId": "ff4adcc8-7a03-4db4-c505-25d763959f21",
    "ExecuteTime": {
     "end_time": "2025-01-13T19:01:03.787674Z",
     "start_time": "2025-01-13T19:01:03.626410Z"
    }
   },
   "id": "Nfu56bEfNPlp",
   "execution_count": 10,
   "outputs": [
    {
     "name": "stdout",
     "output_type": "stream",
     "text": [
      "<class 'pandas.core.frame.DataFrame'>\n",
      "RangeIndex: 231637 entries, 0 to 231636\n",
      "Data columns (total 5 columns):\n",
      " #   Column         Non-Null Count   Dtype \n",
      "---  ------         --------------   ----- \n",
      " 0   name           231636 non-null  object\n",
      " 1   minutes        231637 non-null  int64 \n",
      " 2   nutrition      231637 non-null  object\n",
      " 3   n_steps        231637 non-null  int64 \n",
      " 4   n_ingredients  231637 non-null  int64 \n",
      "dtypes: int64(3), object(2)\n",
      "memory usage: 8.8+ MB\n"
     ]
    }
   ]
  },
  {
   "cell_type": "markdown",
   "source": [
    "### Suppression des lignes incorrectes"
   ],
   "metadata": {
    "id": "Y-KH7kbYNVCS"
   },
   "id": "Y-KH7kbYNVCS"
  },
  {
   "cell_type": "code",
   "source": [
    "recipes_df.drop_duplicates()\n",
    "recipes_df.dropna(inplace=True)"
   ],
   "metadata": {
    "id": "V8g7P3d1NZHi",
    "ExecuteTime": {
     "end_time": "2025-01-13T19:01:03.979260Z",
     "start_time": "2025-01-13T19:01:03.788781Z"
    }
   },
   "id": "V8g7P3d1NZHi",
   "execution_count": 11,
   "outputs": []
  },
  {
   "cell_type": "markdown",
   "source": [
    "### Découpage de la colonne nutrition"
   ],
   "metadata": {
    "id": "eGfwIF1TOKwM"
   },
   "id": "eGfwIF1TOKwM"
  },
  {
   "cell_type": "code",
   "source": [
    "recipes_df['nutrition'] = recipes_df['nutrition'].apply(ast.literal_eval)\n",
    "nutrition_columns = recipes_df['nutrition'].apply(pd.Series)\n",
    "\n",
    "# Renommer les colonnes\n",
    "nutrition_columns.columns = ['calories', 'total_fat', 'sugar', 'sodium', 'protein', 'saturated_fat', 'carbohydrates']\n",
    "\n",
    "# Ajouter les nouvelles colonnes au DataFrame original\n",
    "recipes_df = pd.concat([recipes_df, nutrition_columns], axis=1)\n",
    "\n",
    "# Suppression de la colonne nutrition\n",
    "recipes_df = recipes_df.drop(columns=['nutrition'])"
   ],
   "metadata": {
    "id": "r1SGVciFjlIi",
    "ExecuteTime": {
     "end_time": "2025-01-13T19:01:29.425422Z",
     "start_time": "2025-01-13T19:01:03.984509Z"
    }
   },
   "id": "r1SGVciFjlIi",
   "execution_count": 12,
   "outputs": []
  },
  {
   "cell_type": "markdown",
   "source": [
    "#### Transformation des flottants en entiers"
   ],
   "metadata": {
    "id": "snq2tNZDOxaI"
   },
   "id": "snq2tNZDOxaI"
  },
  {
   "cell_type": "code",
   "source": [
    "for column in nutrition_columns.columns:\n",
    "  recipes_df[column] = recipes_df[column].astype(int)"
   ],
   "metadata": {
    "id": "nX9L7Ia8jncM",
    "ExecuteTime": {
     "end_time": "2025-01-13T19:01:29.453064Z",
     "start_time": "2025-01-13T19:01:29.428603Z"
    }
   },
   "id": "nX9L7Ia8jncM",
   "execution_count": 13,
   "outputs": []
  },
  {
   "cell_type": "markdown",
   "source": [
    "# Programmation par contrainte"
   ],
   "metadata": {
    "id": "KNssNDlwPMZk"
   },
   "id": "KNssNDlwPMZk"
  },
  {
   "cell_type": "markdown",
   "source": [
    "### Définition des préférences utilisateurs"
   ],
   "metadata": {
    "id": "6f7R0Ff5PRAC"
   },
   "id": "6f7R0Ff5PRAC"
  },
  {
   "cell_type": "code",
   "source": [
    "user_preferences = {\n",
    "    \"calories\": (200, 400), # Plage souhaitée pour les calories\n",
    "    \"total_fat\": (0, 30),   # Plage souhaitée pour les matières grasses\n",
    "    \"sugar\": (0, 20),       # Plage souhaitée pour le sucre\n",
    "    \"sodium\": (0, 5)        # Plage souhaitée pour le sel\n",
    "}\n",
    "\n",
    "criteria = [\"calories\", \"total_fat\", \"sugar\", \"sodium\"]"
   ],
   "metadata": {
    "id": "PhwOoo7IjPbf",
    "ExecuteTime": {
     "end_time": "2025-01-13T19:01:29.464445Z",
     "start_time": "2025-01-13T19:01:29.455121Z"
    }
   },
   "id": "PhwOoo7IjPbf",
   "execution_count": 14,
   "outputs": []
  },
  {
   "cell_type": "markdown",
   "source": [
    "### Définitions des paramètres"
   ],
   "metadata": {
    "id": "hLsZFiDHPj5D"
   },
   "id": "hLsZFiDHPj5D"
  },
  {
   "cell_type": "code",
   "source": [
    "n = len(recipes_df)\n",
    "max_total_calories = 1000\n",
    "min_total_protein = 20"
   ],
   "metadata": {
    "id": "3vJLu_tsPgJd",
    "ExecuteTime": {
     "end_time": "2025-01-13T19:01:29.494233Z",
     "start_time": "2025-01-13T19:01:29.466674Z"
    }
   },
   "id": "3vJLu_tsPgJd",
   "execution_count": 15,
   "outputs": []
  },
  {
   "cell_type": "markdown",
   "source": [
    "### Définition de la satisfaction"
   ],
   "metadata": {
    "id": "oNUmWWNnP3zP"
   },
   "id": "oNUmWWNnP3zP"
  },
  {
   "cell_type": "markdown",
   "source": [
    "#### Création de la fonction"
   ],
   "metadata": {
    "id": "EgnSUdQNQBec"
   },
   "id": "EgnSUdQNQBec"
  },
  {
   "cell_type": "code",
   "source": [
    "def compute_satisfaction(row, preferences):\n",
    "    satisfaction = 0\n",
    "\n",
    "    for criterion, (min_val, max_val) in preferences.items():\n",
    "        value = row[criterion]\n",
    "\n",
    "        if min_val <= value <= max_val:\n",
    "            satisfaction += 1  # Complètement dans la plage\n",
    "        elif value < min_val:\n",
    "            satisfaction += 1 - (min_val - value) / min_val  # En dessous de la plage\n",
    "        elif value > max_val:\n",
    "            satisfaction += 1 - (value - max_val) / max_val  # Au dessus de la plage\n",
    "\n",
    "    return satisfaction"
   ],
   "metadata": {
    "id": "vIASLc2uPiC6",
    "ExecuteTime": {
     "end_time": "2025-01-13T19:01:29.516109Z",
     "start_time": "2025-01-13T19:01:29.497463Z"
    }
   },
   "id": "vIASLc2uPiC6",
   "execution_count": 16,
   "outputs": []
  },
  {
   "cell_type": "markdown",
   "source": [
    "#### Calcul du score pour toutes les recettes"
   ],
   "metadata": {
    "id": "SHgmbrHnQNVR"
   },
   "id": "SHgmbrHnQNVR"
  },
  {
   "cell_type": "code",
   "source": [
    "recipes_df[\"satisfaction\"] = recipes_df.apply(\n",
    "    lambda row: compute_satisfaction(row, user_preferences), axis=1\n",
    ")\n",
    "\n",
    "recipes_df = recipes_df.reset_index(drop=True)"
   ],
   "metadata": {
    "id": "m49OIfVHQSHP",
    "ExecuteTime": {
     "end_time": "2025-01-13T19:01:33.004850Z",
     "start_time": "2025-01-13T19:01:29.517190Z"
    }
   },
   "id": "m49OIfVHQSHP",
   "execution_count": 17,
   "outputs": []
  },
  {
   "cell_type": "markdown",
   "source": [
    "### Définition du problème"
   ],
   "metadata": {
    "id": "JCwwrZkDQbAn"
   },
   "id": "JCwwrZkDQbAn"
  },
  {
   "cell_type": "code",
   "source": [
    "prob = LpProblem(\"Maximize_User_Satisfaction\", LpMaximize)"
   ],
   "metadata": {
    "id": "Kh0PNkvYQdyq",
    "ExecuteTime": {
     "end_time": "2025-01-13T19:01:33.015557Z",
     "start_time": "2025-01-13T19:01:33.008365Z"
    }
   },
   "id": "Kh0PNkvYQdyq",
   "execution_count": 18,
   "outputs": []
  },
  {
   "cell_type": "markdown",
   "source": [
    "#### Définition de la variable"
   ],
   "metadata": {
    "id": "S5Jdj_tVQjAC"
   },
   "id": "S5Jdj_tVQjAC"
  },
  {
   "cell_type": "code",
   "source": [
    "X = [LpVariable(f\"X{i}\", cat=\"Binary\") for i in range(n)]"
   ],
   "metadata": {
    "id": "udZDNm5zQpjw",
    "ExecuteTime": {
     "end_time": "2025-01-13T19:01:33.741768Z",
     "start_time": "2025-01-13T19:01:33.018937Z"
    }
   },
   "id": "udZDNm5zQpjw",
   "execution_count": 19,
   "outputs": []
  },
  {
   "cell_type": "markdown",
   "source": [
    "#### Définition des contraintes"
   ],
   "metadata": {
    "id": "WfjuBQoHQtED"
   },
   "id": "WfjuBQoHQtED"
  },
  {
   "cell_type": "code",
   "source": [
    "# Maximiser la satisfaction totale\n",
    "prob += lpSum(recipes_df[\"satisfaction\"][i] * X[i] for i in range(n)), \"Total_Satisfaction\""
   ],
   "metadata": {
    "id": "x3sPoVDFQzme",
    "ExecuteTime": {
     "end_time": "2025-01-13T19:01:38.174415Z",
     "start_time": "2025-01-13T19:01:33.742914Z"
    }
   },
   "id": "x3sPoVDFQzme",
   "execution_count": 20,
   "outputs": []
  },
  {
   "cell_type": "code",
   "source": [
    "# Contrainte sur la quantité globale de calories\n",
    "prob += lpSum(recipes_df[\"calories\"][i] * X[i] for i in range(n)) <= max_total_calories, \"Max_Calories\""
   ],
   "metadata": {
    "id": "5tSZHa2BQ20d",
    "ExecuteTime": {
     "end_time": "2025-01-13T19:01:43.787015Z",
     "start_time": "2025-01-13T19:01:38.175482Z"
    }
   },
   "id": "5tSZHa2BQ20d",
   "execution_count": 21,
   "outputs": []
  },
  {
   "cell_type": "code",
   "source": [
    "# Contrainte sur la quantité globale de protéine\n",
    "prob += lpSum(recipes_df[\"protein\"][i] * X[i] for i in range(n)) >= 20, \"Max_Protein\""
   ],
   "metadata": {
    "id": "c_PSQTqEQ9Ar",
    "ExecuteTime": {
     "end_time": "2025-01-13T19:01:49.625361Z",
     "start_time": "2025-01-13T19:01:43.788142Z"
    }
   },
   "id": "c_PSQTqEQ9Ar",
   "execution_count": 22,
   "outputs": []
  },
  {
   "cell_type": "code",
   "source": [
    "# Limiter aux meilleurs 25 recettes maximum\n",
    "max_recipes = 25\n",
    "prob += lpSum(X[i] for i in range(n)) <= max_recipes, \"Max_Recipes\""
   ],
   "metadata": {
    "id": "0c7b7aYkPiVS",
    "ExecuteTime": {
     "end_time": "2025-01-13T19:01:51.091838Z",
     "start_time": "2025-01-13T19:01:49.626471Z"
    }
   },
   "id": "0c7b7aYkPiVS",
   "execution_count": 23,
   "outputs": []
  },
  {
   "cell_type": "markdown",
   "source": [
    "### Résolution du problème"
   ],
   "metadata": {
    "id": "DNEB9hh9RJJu"
   },
   "id": "DNEB9hh9RJJu"
  },
  {
   "cell_type": "code",
   "source": [
    "status = prob.solve()"
   ],
   "metadata": {
    "id": "PEtYlVZ1jtbi",
    "collapsed": true,
    "ExecuteTime": {
     "end_time": "2025-01-13T19:02:11.095672Z",
     "start_time": "2025-01-13T19:01:51.092839Z"
    }
   },
   "id": "PEtYlVZ1jtbi",
   "execution_count": 24,
   "outputs": []
  },
  {
   "cell_type": "markdown",
   "source": [
    "#### Affichage des résultats"
   ],
   "metadata": {
    "id": "wt-8myVvRUkJ"
   },
   "id": "wt-8myVvRUkJ"
  },
  {
   "cell_type": "code",
   "source": [
    "if status == 1:\n",
    "    print(\"Solution optimale trouvée !\")\n",
    "\n",
    "    # Récupération des recette sélectionnées\n",
    "    selected_recipes = [i for i in range(n) if X[i].value() == 1]\n",
    "\n",
    "    # Calcul des taux en calories et protéine\n",
    "    total_calories = sum(recipes_df[\"calories\"][i] * X[i].value() for i in range(n))\n",
    "    total_protein = sum(recipes_df[\"protein\"][i] * X[i].value() for i in range(n))\n",
    "\n",
    "    # Affichage dans la console\n",
    "    print(f\"Nombre de recettes sélectionnées : {len(selected_recipes)}\")\n",
    "    print(f\"Calories totales : {total_calories}\")\n",
    "    print(f\"Protéines totales : {total_protein}\")\n",
    "\n",
    "    print(\"Recettes proposées :\")\n",
    "    display(recipes_df.iloc[selected_recipes])\n",
    "\n",
    "else:\n",
    "    print(\"Pas de solution optimale trouvée.\")"
   ],
   "metadata": {
    "colab": {
     "base_uri": "https://localhost:8080/",
     "height": 1000
    },
    "id": "st8g4DRKRXKI",
    "outputId": "5acac262-586d-4f9e-9c11-8ef9de4c6aa3",
    "ExecuteTime": {
     "end_time": "2025-01-13T19:02:15.060679Z",
     "start_time": "2025-01-13T19:02:11.099876Z"
    }
   },
   "id": "st8g4DRKRXKI",
   "execution_count": 25,
   "outputs": [
    {
     "name": "stdout",
     "output_type": "stream",
     "text": [
      "Solution optimale trouvée !\n",
      "Nombre de recettes sélectionnées : 25\n",
      "Calories totales : 1000.0\n",
      "Protéines totales : 157.0\n",
      "Recettes proposées :\n"
     ]
    },
    {
     "data": {
      "text/plain": "                                               name  minutes  n_steps  \\\n4506                                   amaretto tea        5        3   \n4518                                 amarula coffee        5        1   \n4532                                  amarula latte        5        2   \n14932   baked potatoes with corn and crema mexicana       70        8   \n34482               camping coffee   percolator pot       35        9   \n35728            caramel   coconut and almond latte        5        2   \n36063                            caravella iced tea        3        4   \n46025               chicken tetrazzini with a twist       35        7   \n53157                             ciclon heat storm        1        3   \n59090          country fried ham with red eye gravy       40        8   \n61917             cream soda mix for sodastream pop       15        9   \n68031                        cucumber yoghurt raita        5        4   \n86700               fresh black bean and corn salsa       20        4   \n90430                                  garlic paste      120        9   \n103051                         hazelnut iced coffee        2        6   \n105274                            herbed soy snacks       20       19   \n111510               inside out chicken korma kievs       25        6   \n114023                     jamaican chicken patties       45       19   \n146671                   okefenokee fried alligator       40        9   \n146772                            old bay party dip        5        3   \n185219               shredded beef and ginger pasta       30        7   \n190407                            snakes on a stick       25        8   \n213694       tip for improving harsh tasting coffee        6        7   \n223709    virginia s refreshing geranium tea cooler        5        5   \n231628                                 zydeco salad        5        4   \n\n        n_ingredients  calories  total_fat  sugar  sodium  protein  \\\n4506                3         0          0      0       0        0   \n4518                2         0          0      0       0        0   \n4532                3         0          0      0       0        0   \n14932               9       200          1     14       4       10   \n34482               3         0          0      0       0        0   \n35728               5         0          0      0       0        0   \n36063               3         1          0      0       0        0   \n46025              10       198         13     20       4       40   \n53157               2         0          0      0       1        0   \n59090               4         0          0      0       0        0   \n61917               4         0          0      0       0        0   \n68031               9         0          0      0       0        0   \n86700               9       198          1     18       0       20   \n90430               3         0          0      0       1        0   \n103051              4         1          0      0       0        0   \n105274              4         0          0      0       0        0   \n111510              4       157          2      1       5       56   \n114023             12       200         10      5       4       30   \n146671              8         0          0      0       0        0   \n146772              4        31          4      2       0        0   \n185219             12         0          0      0       0        0   \n190407              5         0          0      0       0        0   \n213694              3         0          0      0       0        0   \n223709              7         0          0      0       3        0   \n231628              4        14          0      8       0        1   \n\n        saturated_fat  carbohydrates  satisfaction  \n4506                0              0         3.000  \n4518                0              0         3.000  \n4532                0              0         3.000  \n14932               0             15         4.000  \n34482               0              0         3.000  \n35728               0              0         3.000  \n36063               0              0         3.005  \n46025              11              2         3.990  \n53157               0              0         3.000  \n59090               0              0         3.000  \n61917               0              0         3.000  \n68031               0              0         3.000  \n86700               1             13         3.990  \n90430               0              0         3.000  \n103051              0              0         3.005  \n105274              0              0         3.000  \n111510              2              1         3.785  \n114023             19              6         4.000  \n146671              0              0         3.000  \n146772              9              0         3.155  \n185219              0              0         3.000  \n190407              0              0         3.000  \n213694              0              0         3.000  \n223709              0              0         3.000  \n231628              0              1         3.070  ",
      "text/html": "<div>\n<style scoped>\n    .dataframe tbody tr th:only-of-type {\n        vertical-align: middle;\n    }\n\n    .dataframe tbody tr th {\n        vertical-align: top;\n    }\n\n    .dataframe thead th {\n        text-align: right;\n    }\n</style>\n<table border=\"1\" class=\"dataframe\">\n  <thead>\n    <tr style=\"text-align: right;\">\n      <th></th>\n      <th>name</th>\n      <th>minutes</th>\n      <th>n_steps</th>\n      <th>n_ingredients</th>\n      <th>calories</th>\n      <th>total_fat</th>\n      <th>sugar</th>\n      <th>sodium</th>\n      <th>protein</th>\n      <th>saturated_fat</th>\n      <th>carbohydrates</th>\n      <th>satisfaction</th>\n    </tr>\n  </thead>\n  <tbody>\n    <tr>\n      <th>4506</th>\n      <td>amaretto tea</td>\n      <td>5</td>\n      <td>3</td>\n      <td>3</td>\n      <td>0</td>\n      <td>0</td>\n      <td>0</td>\n      <td>0</td>\n      <td>0</td>\n      <td>0</td>\n      <td>0</td>\n      <td>3.000</td>\n    </tr>\n    <tr>\n      <th>4518</th>\n      <td>amarula coffee</td>\n      <td>5</td>\n      <td>1</td>\n      <td>2</td>\n      <td>0</td>\n      <td>0</td>\n      <td>0</td>\n      <td>0</td>\n      <td>0</td>\n      <td>0</td>\n      <td>0</td>\n      <td>3.000</td>\n    </tr>\n    <tr>\n      <th>4532</th>\n      <td>amarula latte</td>\n      <td>5</td>\n      <td>2</td>\n      <td>3</td>\n      <td>0</td>\n      <td>0</td>\n      <td>0</td>\n      <td>0</td>\n      <td>0</td>\n      <td>0</td>\n      <td>0</td>\n      <td>3.000</td>\n    </tr>\n    <tr>\n      <th>14932</th>\n      <td>baked potatoes with corn and crema mexicana</td>\n      <td>70</td>\n      <td>8</td>\n      <td>9</td>\n      <td>200</td>\n      <td>1</td>\n      <td>14</td>\n      <td>4</td>\n      <td>10</td>\n      <td>0</td>\n      <td>15</td>\n      <td>4.000</td>\n    </tr>\n    <tr>\n      <th>34482</th>\n      <td>camping coffee   percolator pot</td>\n      <td>35</td>\n      <td>9</td>\n      <td>3</td>\n      <td>0</td>\n      <td>0</td>\n      <td>0</td>\n      <td>0</td>\n      <td>0</td>\n      <td>0</td>\n      <td>0</td>\n      <td>3.000</td>\n    </tr>\n    <tr>\n      <th>35728</th>\n      <td>caramel   coconut and almond latte</td>\n      <td>5</td>\n      <td>2</td>\n      <td>5</td>\n      <td>0</td>\n      <td>0</td>\n      <td>0</td>\n      <td>0</td>\n      <td>0</td>\n      <td>0</td>\n      <td>0</td>\n      <td>3.000</td>\n    </tr>\n    <tr>\n      <th>36063</th>\n      <td>caravella iced tea</td>\n      <td>3</td>\n      <td>4</td>\n      <td>3</td>\n      <td>1</td>\n      <td>0</td>\n      <td>0</td>\n      <td>0</td>\n      <td>0</td>\n      <td>0</td>\n      <td>0</td>\n      <td>3.005</td>\n    </tr>\n    <tr>\n      <th>46025</th>\n      <td>chicken tetrazzini with a twist</td>\n      <td>35</td>\n      <td>7</td>\n      <td>10</td>\n      <td>198</td>\n      <td>13</td>\n      <td>20</td>\n      <td>4</td>\n      <td>40</td>\n      <td>11</td>\n      <td>2</td>\n      <td>3.990</td>\n    </tr>\n    <tr>\n      <th>53157</th>\n      <td>ciclon heat storm</td>\n      <td>1</td>\n      <td>3</td>\n      <td>2</td>\n      <td>0</td>\n      <td>0</td>\n      <td>0</td>\n      <td>1</td>\n      <td>0</td>\n      <td>0</td>\n      <td>0</td>\n      <td>3.000</td>\n    </tr>\n    <tr>\n      <th>59090</th>\n      <td>country fried ham with red eye gravy</td>\n      <td>40</td>\n      <td>8</td>\n      <td>4</td>\n      <td>0</td>\n      <td>0</td>\n      <td>0</td>\n      <td>0</td>\n      <td>0</td>\n      <td>0</td>\n      <td>0</td>\n      <td>3.000</td>\n    </tr>\n    <tr>\n      <th>61917</th>\n      <td>cream soda mix for sodastream pop</td>\n      <td>15</td>\n      <td>9</td>\n      <td>4</td>\n      <td>0</td>\n      <td>0</td>\n      <td>0</td>\n      <td>0</td>\n      <td>0</td>\n      <td>0</td>\n      <td>0</td>\n      <td>3.000</td>\n    </tr>\n    <tr>\n      <th>68031</th>\n      <td>cucumber yoghurt raita</td>\n      <td>5</td>\n      <td>4</td>\n      <td>9</td>\n      <td>0</td>\n      <td>0</td>\n      <td>0</td>\n      <td>0</td>\n      <td>0</td>\n      <td>0</td>\n      <td>0</td>\n      <td>3.000</td>\n    </tr>\n    <tr>\n      <th>86700</th>\n      <td>fresh black bean and corn salsa</td>\n      <td>20</td>\n      <td>4</td>\n      <td>9</td>\n      <td>198</td>\n      <td>1</td>\n      <td>18</td>\n      <td>0</td>\n      <td>20</td>\n      <td>1</td>\n      <td>13</td>\n      <td>3.990</td>\n    </tr>\n    <tr>\n      <th>90430</th>\n      <td>garlic paste</td>\n      <td>120</td>\n      <td>9</td>\n      <td>3</td>\n      <td>0</td>\n      <td>0</td>\n      <td>0</td>\n      <td>1</td>\n      <td>0</td>\n      <td>0</td>\n      <td>0</td>\n      <td>3.000</td>\n    </tr>\n    <tr>\n      <th>103051</th>\n      <td>hazelnut iced coffee</td>\n      <td>2</td>\n      <td>6</td>\n      <td>4</td>\n      <td>1</td>\n      <td>0</td>\n      <td>0</td>\n      <td>0</td>\n      <td>0</td>\n      <td>0</td>\n      <td>0</td>\n      <td>3.005</td>\n    </tr>\n    <tr>\n      <th>105274</th>\n      <td>herbed soy snacks</td>\n      <td>20</td>\n      <td>19</td>\n      <td>4</td>\n      <td>0</td>\n      <td>0</td>\n      <td>0</td>\n      <td>0</td>\n      <td>0</td>\n      <td>0</td>\n      <td>0</td>\n      <td>3.000</td>\n    </tr>\n    <tr>\n      <th>111510</th>\n      <td>inside out chicken korma kievs</td>\n      <td>25</td>\n      <td>6</td>\n      <td>4</td>\n      <td>157</td>\n      <td>2</td>\n      <td>1</td>\n      <td>5</td>\n      <td>56</td>\n      <td>2</td>\n      <td>1</td>\n      <td>3.785</td>\n    </tr>\n    <tr>\n      <th>114023</th>\n      <td>jamaican chicken patties</td>\n      <td>45</td>\n      <td>19</td>\n      <td>12</td>\n      <td>200</td>\n      <td>10</td>\n      <td>5</td>\n      <td>4</td>\n      <td>30</td>\n      <td>19</td>\n      <td>6</td>\n      <td>4.000</td>\n    </tr>\n    <tr>\n      <th>146671</th>\n      <td>okefenokee fried alligator</td>\n      <td>40</td>\n      <td>9</td>\n      <td>8</td>\n      <td>0</td>\n      <td>0</td>\n      <td>0</td>\n      <td>0</td>\n      <td>0</td>\n      <td>0</td>\n      <td>0</td>\n      <td>3.000</td>\n    </tr>\n    <tr>\n      <th>146772</th>\n      <td>old bay party dip</td>\n      <td>5</td>\n      <td>3</td>\n      <td>4</td>\n      <td>31</td>\n      <td>4</td>\n      <td>2</td>\n      <td>0</td>\n      <td>0</td>\n      <td>9</td>\n      <td>0</td>\n      <td>3.155</td>\n    </tr>\n    <tr>\n      <th>185219</th>\n      <td>shredded beef and ginger pasta</td>\n      <td>30</td>\n      <td>7</td>\n      <td>12</td>\n      <td>0</td>\n      <td>0</td>\n      <td>0</td>\n      <td>0</td>\n      <td>0</td>\n      <td>0</td>\n      <td>0</td>\n      <td>3.000</td>\n    </tr>\n    <tr>\n      <th>190407</th>\n      <td>snakes on a stick</td>\n      <td>25</td>\n      <td>8</td>\n      <td>5</td>\n      <td>0</td>\n      <td>0</td>\n      <td>0</td>\n      <td>0</td>\n      <td>0</td>\n      <td>0</td>\n      <td>0</td>\n      <td>3.000</td>\n    </tr>\n    <tr>\n      <th>213694</th>\n      <td>tip for improving harsh tasting coffee</td>\n      <td>6</td>\n      <td>7</td>\n      <td>3</td>\n      <td>0</td>\n      <td>0</td>\n      <td>0</td>\n      <td>0</td>\n      <td>0</td>\n      <td>0</td>\n      <td>0</td>\n      <td>3.000</td>\n    </tr>\n    <tr>\n      <th>223709</th>\n      <td>virginia s refreshing geranium tea cooler</td>\n      <td>5</td>\n      <td>5</td>\n      <td>7</td>\n      <td>0</td>\n      <td>0</td>\n      <td>0</td>\n      <td>3</td>\n      <td>0</td>\n      <td>0</td>\n      <td>0</td>\n      <td>3.000</td>\n    </tr>\n    <tr>\n      <th>231628</th>\n      <td>zydeco salad</td>\n      <td>5</td>\n      <td>4</td>\n      <td>4</td>\n      <td>14</td>\n      <td>0</td>\n      <td>8</td>\n      <td>0</td>\n      <td>1</td>\n      <td>0</td>\n      <td>1</td>\n      <td>3.070</td>\n    </tr>\n  </tbody>\n</table>\n</div>"
     },
     "metadata": {},
     "output_type": "display_data"
    }
   ]
  }
 ],
 "metadata": {
  "kernelspec": {
   "display_name": "Python 3",
   "language": "python",
   "name": "python3"
  },
  "language_info": {
   "codemirror_mode": {
    "name": "ipython",
    "version": 2
   },
   "file_extension": ".py",
   "mimetype": "text/x-python",
   "name": "python",
   "nbconvert_exporter": "python",
   "pygments_lexer": "ipython2",
   "version": "2.7.6"
  },
  "colab": {
   "provenance": []
  }
 },
 "nbformat": 4,
 "nbformat_minor": 5
}
