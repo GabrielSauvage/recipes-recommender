{
 "cells": [
  {
   "cell_type": "code",
   "execution_count": null,
   "id": "initial_id",
   "metadata": {
    "collapsed": true
   },
   "outputs": [],
   "source": [
    "### CODE POUR LE FILTRAGE PAR CONTENU \n",
    "\n",
    "import pandas as pd\n",
    "import string\n",
    "from sklearn.feature_extraction.text import TfidfVectorizer\n",
    "from sklearn.metrics.pairwise import linear_kernel\n",
    "\n",
    "recipes_df = pd.read_csv('../data/raw/RAW_recipes.csv', on_bad_lines='skip')\n",
    "recipes_df.info()\n",
    "recipes_df = recipes_df.drop(\n",
    "    ['description', 'submitted', 'contributor_id', 'tags', 'nutrition', 'n_steps', 'n_ingredients', 'steps'], axis=1)\n",
    "recipes_df.head()\n",
    "recipes_df = recipes_df.head(10000)\n",
    "recipes_df = recipes_df.drop_duplicates()\n",
    "recipes_df = recipes_df.dropna()\n",
    "\n",
    "def text_cleaning(text):\n",
    "    text = \"\".join([char for char in text if char not in string.punctuation])\n",
    "    return text\n",
    "\n",
    "recipes_df['ingredients'] = recipes_df['ingredients'].apply(lambda x: text_cleaning(x))\n",
    "recipes_df.duplicated().sum()\n",
    "recipes_df.isnull().sum()\n",
    "tfidf = TfidfVectorizer(stop_words='english', max_features=30000)\n",
    "tfidf_matrix = tfidf.fit_transform(recipes_df['ingredients'])\n",
    "tfidf_matrix.shape\n",
    "cosine_sim = linear_kernel(tfidf_matrix, tfidf_matrix)\n",
    "cosine_sim\n",
    "indices = pd.Series(recipes_df.index, index=recipes_df['name']).drop_duplicates()\n",
    "indices\n",
    "\n",
    "def get_recommendations(title, cosine_sim=cosine_sim):\n",
    "    idx = indices[title]\n",
    "    sim_scores = list(enumerate(cosine_sim[idx]))\n",
    "    sim_scores = sorted(sim_scores, key=lambda x: x[1], reverse=True)\n",
    "    # Get the scores of the 5 most similar food\n",
    "    sim_scores = sim_scores[1:6]\n",
    "\n",
    "    food_indices = [i[0] for i in sim_scores]\n",
    "    similarity_scores = [i[1] * 100 for i in sim_scores]\n",
    "    \n",
    "    df_reco = pd.DataFrame({\n",
    "        'name': recipes_df['name'].iloc[food_indices],\n",
    "        'ingredients': recipes_df['ingredients'].iloc[food_indices],\n",
    "        'similarity': similarity_scores\n",
    "    })\n",
    "    return df_reco\n",
    "\n",
    "result = get_recommendations('killer  lasagna')\n",
    "result.head(10)"
   ]
  }
 ],
 "metadata": {
  "kernelspec": {
   "display_name": "Python 3",
   "language": "python",
   "name": "python3"
  },
  "language_info": {
   "codemirror_mode": {
    "name": "ipython",
    "version": 2
   },
   "file_extension": ".py",
   "mimetype": "text/x-python",
   "name": "python",
   "nbconvert_exporter": "python",
   "pygments_lexer": "ipython2",
   "version": "2.7.6"
  }
 },
 "nbformat": 4,
 "nbformat_minor": 5
}
