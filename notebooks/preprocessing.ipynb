{
 "cells": [
  {
   "cell_type": "code",
   "execution_count": 11,
   "id": "initial_id",
   "metadata": {
    "collapsed": true,
    "ExecuteTime": {
     "end_time": "2024-12-04T12:30:09.541325Z",
     "start_time": "2024-12-04T12:30:09.503813Z"
    }
   },
   "outputs": [],
   "source": [
    "import pandas as pd"
   ]
  },
  {
   "cell_type": "code",
   "outputs": [],
   "source": [
    "# Load the data\n",
    "data = pd.read_csv('../data/raw/raw_recipes.csv')"
   ],
   "metadata": {
    "collapsed": false,
    "ExecuteTime": {
     "end_time": "2024-12-04T12:30:13.881410Z",
     "start_time": "2024-12-04T12:30:09.543328Z"
    }
   },
   "id": "c2168860dceacc76",
   "execution_count": 12
  },
  {
   "cell_type": "code",
   "outputs": [],
   "source": [
    "#Suppression des colonnes inutiles\n",
    "data = data.drop(columns=['contributor_id', 'submitted', 'tags', 'n_steps', 'steps', 'description', 'ingredients', 'n_ingredients', 'minutes'])"
   ],
   "metadata": {
    "collapsed": false,
    "ExecuteTime": {
     "end_time": "2024-12-04T12:30:13.983470Z",
     "start_time": "2024-12-04T12:30:13.882414Z"
    }
   },
   "id": "2642e2e61e9cf35f",
   "execution_count": 13
  },
  {
   "cell_type": "code",
   "outputs": [],
   "source": [
    "# Séparer les valeurs de la colonne 'nutrition' en plusieurs colonnes\n",
    "nutrition_columns = ['calories','total fat (PDV)','sugar (PDV)','sodium (PDV)','protein (PDV)','saturated fat (PDV)','carbohydrates (PDV)']\n",
    "nutrition_data = data['nutrition'].str.strip('[]').str.split(',', expand=True)\n",
    "nutrition_data.columns = nutrition_columns\n",
    "\n",
    "# Ajouter les nouvelles colonnes au DataFrame original\n",
    "data = pd.concat([data, nutrition_data], axis=1)\n",
    "\n",
    "# Supprimer la colonne 'nutrition' originale\n",
    "data = data.drop(columns=['nutrition'])"
   ],
   "metadata": {
    "collapsed": false,
    "ExecuteTime": {
     "end_time": "2024-12-04T12:30:14.895493Z",
     "start_time": "2024-12-04T12:30:13.984474Z"
    }
   },
   "id": "f6ba0df6a2fab9e",
   "execution_count": 14
  },
  {
   "cell_type": "code",
   "outputs": [],
   "source": [
    "# Supprimer les lignes avec qui sont en double\n",
    "data = data.drop_duplicates()"
   ],
   "metadata": {
    "collapsed": false,
    "ExecuteTime": {
     "end_time": "2024-12-04T12:30:15.253745Z",
     "start_time": "2024-12-04T12:30:14.896788Z"
    }
   },
   "id": "1cc93eb574f413f3",
   "execution_count": 15
  },
  {
   "cell_type": "code",
   "outputs": [],
   "source": [
    "# Supprimer les lignes avec des valeurs manquantes\n",
    "data = data.dropna()"
   ],
   "metadata": {
    "collapsed": false,
    "ExecuteTime": {
     "end_time": "2024-12-04T12:31:44.839678Z",
     "start_time": "2024-12-04T12:31:44.670837Z"
    }
   },
   "id": "68c7c9017b5fb40f",
   "execution_count": 17
  },
  {
   "cell_type": "code",
   "outputs": [
    {
     "data": {
      "text/plain": "                                         name      id calories  \\\n0  arriba   baked winter squash mexican style  137739     51.5   \n1            a bit different  breakfast pizza   31490    173.4   \n2                   all in the kitchen  chili  112140    269.8   \n3                          alouette  potatoes   59389    368.1   \n4          amish  tomato ketchup  for canning   44061    352.9   \n5                     apple a day  milk shake    5289    160.2   \n6                       aww  marinated olives   25274    380.7   \n7              backyard style  barbecued ribs   67888   1109.5   \n8                    bananas 4 ice cream  pie   70971   4270.8   \n9                     beat this  banana bread   75452   2669.3   \n\n  total fat (PDV) sugar (PDV) sodium (PDV) protein (PDV) saturated fat (PDV)  \\\n0             0.0        13.0          0.0           2.0                 0.0   \n1            18.0         0.0         17.0          22.0                35.0   \n2            22.0        32.0         48.0          39.0                27.0   \n3            17.0        10.0          2.0          14.0                 8.0   \n4             1.0       337.0         23.0           3.0                 0.0   \n5            10.0        55.0          3.0           9.0                20.0   \n6            53.0         7.0         24.0           6.0                24.0   \n7            83.0       378.0        275.0          96.0                86.0   \n8           254.0      1306.0        111.0         127.0               431.0   \n9           160.0       976.0        107.0          62.0               310.0   \n\n  carbohydrates (PDV)  \n0                 4.0  \n1                 1.0  \n2                 5.0  \n3                20.0  \n4                28.0  \n5                 7.0  \n6                 6.0  \n7                36.0  \n8               220.0  \n9               138.0  ",
      "text/html": "<div>\n<style scoped>\n    .dataframe tbody tr th:only-of-type {\n        vertical-align: middle;\n    }\n\n    .dataframe tbody tr th {\n        vertical-align: top;\n    }\n\n    .dataframe thead th {\n        text-align: right;\n    }\n</style>\n<table border=\"1\" class=\"dataframe\">\n  <thead>\n    <tr style=\"text-align: right;\">\n      <th></th>\n      <th>name</th>\n      <th>id</th>\n      <th>calories</th>\n      <th>total fat (PDV)</th>\n      <th>sugar (PDV)</th>\n      <th>sodium (PDV)</th>\n      <th>protein (PDV)</th>\n      <th>saturated fat (PDV)</th>\n      <th>carbohydrates (PDV)</th>\n    </tr>\n  </thead>\n  <tbody>\n    <tr>\n      <th>0</th>\n      <td>arriba   baked winter squash mexican style</td>\n      <td>137739</td>\n      <td>51.5</td>\n      <td>0.0</td>\n      <td>13.0</td>\n      <td>0.0</td>\n      <td>2.0</td>\n      <td>0.0</td>\n      <td>4.0</td>\n    </tr>\n    <tr>\n      <th>1</th>\n      <td>a bit different  breakfast pizza</td>\n      <td>31490</td>\n      <td>173.4</td>\n      <td>18.0</td>\n      <td>0.0</td>\n      <td>17.0</td>\n      <td>22.0</td>\n      <td>35.0</td>\n      <td>1.0</td>\n    </tr>\n    <tr>\n      <th>2</th>\n      <td>all in the kitchen  chili</td>\n      <td>112140</td>\n      <td>269.8</td>\n      <td>22.0</td>\n      <td>32.0</td>\n      <td>48.0</td>\n      <td>39.0</td>\n      <td>27.0</td>\n      <td>5.0</td>\n    </tr>\n    <tr>\n      <th>3</th>\n      <td>alouette  potatoes</td>\n      <td>59389</td>\n      <td>368.1</td>\n      <td>17.0</td>\n      <td>10.0</td>\n      <td>2.0</td>\n      <td>14.0</td>\n      <td>8.0</td>\n      <td>20.0</td>\n    </tr>\n    <tr>\n      <th>4</th>\n      <td>amish  tomato ketchup  for canning</td>\n      <td>44061</td>\n      <td>352.9</td>\n      <td>1.0</td>\n      <td>337.0</td>\n      <td>23.0</td>\n      <td>3.0</td>\n      <td>0.0</td>\n      <td>28.0</td>\n    </tr>\n    <tr>\n      <th>5</th>\n      <td>apple a day  milk shake</td>\n      <td>5289</td>\n      <td>160.2</td>\n      <td>10.0</td>\n      <td>55.0</td>\n      <td>3.0</td>\n      <td>9.0</td>\n      <td>20.0</td>\n      <td>7.0</td>\n    </tr>\n    <tr>\n      <th>6</th>\n      <td>aww  marinated olives</td>\n      <td>25274</td>\n      <td>380.7</td>\n      <td>53.0</td>\n      <td>7.0</td>\n      <td>24.0</td>\n      <td>6.0</td>\n      <td>24.0</td>\n      <td>6.0</td>\n    </tr>\n    <tr>\n      <th>7</th>\n      <td>backyard style  barbecued ribs</td>\n      <td>67888</td>\n      <td>1109.5</td>\n      <td>83.0</td>\n      <td>378.0</td>\n      <td>275.0</td>\n      <td>96.0</td>\n      <td>86.0</td>\n      <td>36.0</td>\n    </tr>\n    <tr>\n      <th>8</th>\n      <td>bananas 4 ice cream  pie</td>\n      <td>70971</td>\n      <td>4270.8</td>\n      <td>254.0</td>\n      <td>1306.0</td>\n      <td>111.0</td>\n      <td>127.0</td>\n      <td>431.0</td>\n      <td>220.0</td>\n    </tr>\n    <tr>\n      <th>9</th>\n      <td>beat this  banana bread</td>\n      <td>75452</td>\n      <td>2669.3</td>\n      <td>160.0</td>\n      <td>976.0</td>\n      <td>107.0</td>\n      <td>62.0</td>\n      <td>310.0</td>\n      <td>138.0</td>\n    </tr>\n  </tbody>\n</table>\n</div>"
     },
     "execution_count": 19,
     "metadata": {},
     "output_type": "execute_result"
    }
   ],
   "source": [
    "# Affichage des 10 premières lignes\n",
    "data.head(10)"
   ],
   "metadata": {
    "collapsed": false,
    "ExecuteTime": {
     "end_time": "2024-12-04T12:32:33.303189Z",
     "start_time": "2024-12-04T12:32:33.292080Z"
    }
   },
   "id": "2c7a3deb2a7f4b8b",
   "execution_count": 19
  },
  {
   "cell_type": "code",
   "outputs": [
    {
     "name": "stdout",
     "output_type": "stream",
     "text": [
      "231636\n"
     ]
    }
   ],
   "source": [
    "print(len(data))"
   ],
   "metadata": {
    "collapsed": false,
    "ExecuteTime": {
     "end_time": "2024-12-04T12:32:25.500196Z",
     "start_time": "2024-12-04T12:32:25.496375Z"
    }
   },
   "id": "a618f6a69a26ab28",
   "execution_count": 18
  },
  {
   "cell_type": "code",
   "outputs": [],
   "source": [],
   "metadata": {
    "collapsed": false
   },
   "id": "5f98dd258573318e"
  }
 ],
 "metadata": {
  "kernelspec": {
   "display_name": "Python 3",
   "language": "python",
   "name": "python3"
  },
  "language_info": {
   "codemirror_mode": {
    "name": "ipython",
    "version": 2
   },
   "file_extension": ".py",
   "mimetype": "text/x-python",
   "name": "python",
   "nbconvert_exporter": "python",
   "pygments_lexer": "ipython2",
   "version": "2.7.6"
  }
 },
 "nbformat": 4,
 "nbformat_minor": 5
}
